{
 "cells": [
  {
   "cell_type": "markdown",
   "id": "6f63fcb3",
   "metadata": {},
   "source": [
    "# Libraries\n",
    "A library in Python is a collection of predefined modules that are used to solve specific problems.\n",
    "The cell below gives a few examples among the thousands of libraries that are used in Python:"
   ]
  },
  {
   "cell_type": "raw",
   "id": "1b874430",
   "metadata": {},
   "source": [
    "DATA WRANGLING/MANAGEMENT\n",
    "Pandas\n",
    "Numpy\n",
    "Scipy\n",
    "\n",
    "WEB SCRAPPING\n",
    "BeautifulSoup\n",
    "Scrapy\n",
    "\n",
    "NEURAL NETWORKS\n",
    "Keras\n",
    "TensorFlow\n",
    "Pytorch\n",
    "\n",
    "MACHINE LEARNING\n",
    "XGBoost\n",
    "Scikit-Learn\n",
    "\n",
    "DATA VISUALIZATION\n",
    "Matplotlib\n",
    "Plotly\n",
    "Seaborn\n",
    "d3.js\n",
    "Bokeh\n",
    "Pydot"
   ]
  },
  {
   "cell_type": "markdown",
   "id": "9193c5fe",
   "metadata": {},
   "source": [
    "## Importation of libraries\n",
    "<p>Libraries are imported as shown below:</p>"
   ]
  },
  {
   "cell_type": "code",
   "execution_count": 1,
   "id": "b460f4fc",
   "metadata": {},
   "outputs": [],
   "source": [
    "import pandas as pd\n",
    "import numpy as np"
   ]
  },
  {
   "cell_type": "markdown",
   "id": "60fb991d",
   "metadata": {},
   "source": [
    "## Python library management modules\n",
    "<ol>\n",
    "    <li>Conda</li>\n",
    "    <li>Venv</li>\n",
    "    <li>Pip</li>\n",
    "</ol>\n",
    "<p>To check the library version being used, the syntax in the cell below can be used to check it out. In order to do so, you need to first import the library:</p>"
   ]
  },
  {
   "cell_type": "code",
   "execution_count": 2,
   "id": "926494c1",
   "metadata": {},
   "outputs": [
    {
     "data": {
      "text/plain": [
       "'1.3.4'"
      ]
     },
     "execution_count": 2,
     "metadata": {},
     "output_type": "execute_result"
    }
   ],
   "source": [
    "pd.__version__"
   ]
  },
  {
   "cell_type": "code",
   "execution_count": 3,
   "id": "d91bcc9b",
   "metadata": {},
   "outputs": [
    {
     "data": {
      "text/plain": [
       "'1.23.2'"
      ]
     },
     "execution_count": 3,
     "metadata": {},
     "output_type": "execute_result"
    }
   ],
   "source": [
    "np.__version__"
   ]
  },
  {
   "cell_type": "markdown",
   "id": "df9f4281",
   "metadata": {},
   "source": [
    "In order to check the details about Conda, the syntax below can be used:"
   ]
  },
  {
   "cell_type": "code",
   "execution_count": 4,
   "id": "b70e6a98",
   "metadata": {},
   "outputs": [
    {
     "name": "stdout",
     "output_type": "stream",
     "text": [
      "\n",
      "     active environment : base\n",
      "    active env location : D:\\anaconda3\n",
      "       user config file : C:\\Users\\User\\.condarc\n",
      " populated config files : C:\\Users\\User\\.condarc\n",
      "          conda version : 4.10.3\n",
      "    conda-build version : 3.21.6\n",
      "         python version : 3.9.7.final.0\n",
      "       virtual packages : __win=0=0\n",
      "                          __archspec=1=x86_64\n",
      "       base environment : D:\\anaconda3  (writable)\n",
      "      conda av data dir : D:\\anaconda3\\etc\\conda\n",
      "  conda av metadata url : None\n",
      "           channel URLs : https://repo.anaconda.com/pkgs/main/win-64\n",
      "                          https://repo.anaconda.com/pkgs/main/noarch\n",
      "                          https://repo.anaconda.com/pkgs/r/win-64\n",
      "                          https://repo.anaconda.com/pkgs/r/noarch\n",
      "                          https://repo.anaconda.com/pkgs/msys2/win-64\n",
      "                          https://repo.anaconda.com/pkgs/msys2/noarch\n",
      "          package cache : D:\\anaconda3\\pkgs\n",
      "                          C:\\Users\\User\\.conda\\pkgs\n",
      "                          C:\\Users\\User\\AppData\\Local\\conda\\conda\\pkgs\n",
      "       envs directories : D:\\anaconda3\\envs\n",
      "                          C:\\Users\\User\\.conda\\envs\n",
      "                          C:\\Users\\User\\AppData\\Local\\conda\\conda\\envs\n",
      "               platform : win-64\n",
      "             user-agent : conda/4.10.3 requests/2.26.0 CPython/3.9.7 Windows/10 Windows/10.0.19044\n",
      "          administrator : False\n",
      "             netrc file : None\n",
      "           offline mode : False\n",
      "\n",
      "\n",
      "Note: you may need to restart the kernel to use updated packages.\n"
     ]
    }
   ],
   "source": [
    "conda info"
   ]
  },
  {
   "cell_type": "markdown",
   "id": "2e10a765",
   "metadata": {},
   "source": [
    "Updating conda:"
   ]
  },
  {
   "cell_type": "code",
   "execution_count": 5,
   "id": "7461b8e4",
   "metadata": {},
   "outputs": [],
   "source": [
    "#conda update conda"
   ]
  },
  {
   "cell_type": "markdown",
   "id": "a85dc26e",
   "metadata": {},
   "source": [
    "Creation of a virtual environment:"
   ]
  },
  {
   "cell_type": "code",
   "execution_count": 6,
   "id": "d84d0e5b",
   "metadata": {},
   "outputs": [],
   "source": [
    "#conda create -n IntroEnvironment python=3.9 -y"
   ]
  },
  {
   "cell_type": "markdown",
   "id": "25f9aa0f",
   "metadata": {},
   "source": [
    "Getting into a virtual environment:"
   ]
  },
  {
   "cell_type": "code",
   "execution_count": 7,
   "id": "410e8816",
   "metadata": {},
   "outputs": [],
   "source": [
    "#conda activate EnvironmentName"
   ]
  },
  {
   "cell_type": "markdown",
   "id": "1fc8962f",
   "metadata": {},
   "source": [
    "Getting out of a virtual environment:"
   ]
  },
  {
   "cell_type": "code",
   "execution_count": 8,
   "id": "5d0e4f08",
   "metadata": {},
   "outputs": [],
   "source": [
    "#conda deactivate EnvironmentName"
   ]
  },
  {
   "cell_type": "markdown",
   "id": "bb10ed19",
   "metadata": {},
   "source": [
    "Environment information:"
   ]
  },
  {
   "cell_type": "code",
   "execution_count": 9,
   "id": "a2def6e9",
   "metadata": {},
   "outputs": [
    {
     "name": "stdout",
     "output_type": "stream",
     "text": [
      "# conda environments:\n",
      "#\n",
      "base                  *  D:\\anaconda3\n",
      "\n",
      "\n",
      "Note: you may need to restart the kernel to use updated packages.\n"
     ]
    }
   ],
   "source": [
    "conda info --envs"
   ]
  },
  {
   "cell_type": "code",
   "execution_count": 10,
   "id": "2fb5774e",
   "metadata": {},
   "outputs": [],
   "source": [
    "#conda install pandas = 1.4.2 --yes"
   ]
  }
 ],
 "metadata": {
  "kernelspec": {
   "display_name": "Python 3 (ipykernel)",
   "language": "python",
   "name": "python3"
  },
  "language_info": {
   "codemirror_mode": {
    "name": "ipython",
    "version": 3
   },
   "file_extension": ".py",
   "mimetype": "text/x-python",
   "name": "python",
   "nbconvert_exporter": "python",
   "pygments_lexer": "ipython3",
   "version": "3.9.7"
  }
 },
 "nbformat": 4,
 "nbformat_minor": 5
}
