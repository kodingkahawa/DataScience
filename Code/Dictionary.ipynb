{
 "cells": [
  {
   "cell_type": "markdown",
   "id": "8dcf2082",
   "metadata": {},
   "source": [
    "## Dictionaries\n",
    "<p>A dictionary is a data structure in Python composed of a key and dictionary</p>"
   ]
  },
  {
   "cell_type": "raw",
   "id": "808b5784",
   "metadata": {},
   "source": [
    "A dictionary takes up the following format:\n",
    "name = {key : value,\n",
    "        key2 : value,\n",
    "        key3 : value,\n",
    "        keyx : values}"
   ]
  },
  {
   "cell_type": "markdown",
   "id": "15aa1466",
   "metadata": {},
   "source": [
    "A dictionary is created by the use of curly brackets as shown below:"
   ]
  },
  {
   "cell_type": "code",
   "execution_count": 1,
   "id": "fb3103fe",
   "metadata": {},
   "outputs": [],
   "source": [
    "x = {}"
   ]
  },
  {
   "cell_type": "markdown",
   "id": "1e5196c2",
   "metadata": {},
   "source": [
    "The above cell is a successfully created dictionary as shown below:"
   ]
  },
  {
   "cell_type": "code",
   "execution_count": 2,
   "id": "01ee56dc",
   "metadata": {
    "scrolled": true
   },
   "outputs": [
    {
     "data": {
      "text/plain": [
       "dict"
      ]
     },
     "execution_count": 2,
     "metadata": {},
     "output_type": "execute_result"
    }
   ],
   "source": [
    "type(x)"
   ]
  },
  {
   "cell_type": "markdown",
   "id": "d27cc98b",
   "metadata": {},
   "source": [
    "A dictionary with a key and value can be created as shown below:"
   ]
  },
  {
   "cell_type": "code",
   "execution_count": 3,
   "id": "9d88d7f9",
   "metadata": {},
   "outputs": [],
   "source": [
    "nos = {'ones' : 1,\n",
    "       'tens' : 10,\n",
    "       'hundreds' : 100}"
   ]
  },
  {
   "cell_type": "markdown",
   "id": "439002a8",
   "metadata": {},
   "source": [
    "The values in a dictionary can be accessed via indexing:"
   ]
  },
  {
   "cell_type": "code",
   "execution_count": 4,
   "id": "73fe7b17",
   "metadata": {},
   "outputs": [
    {
     "data": {
      "text/plain": [
       "'10'"
      ]
     },
     "execution_count": 4,
     "metadata": {},
     "output_type": "execute_result"
    }
   ],
   "source": [
    "str(nos['tens'])"
   ]
  },
  {
   "cell_type": "code",
   "execution_count": 5,
   "id": "9183ad44",
   "metadata": {},
   "outputs": [
    {
     "data": {
      "text/plain": [
       "{'ones': 1, 'tens': 10, 'hundreds': 100}"
      ]
     },
     "execution_count": 5,
     "metadata": {},
     "output_type": "execute_result"
    }
   ],
   "source": [
    "nos"
   ]
  },
  {
   "cell_type": "code",
   "execution_count": 6,
   "id": "e501c628",
   "metadata": {},
   "outputs": [],
   "source": [
    "nos2 = {'ones' : [1, 2, 3, 4, 5],\n",
    "        'tens' : [10, 20, 30, 40, 50],\n",
    "        'hundreds' : [100, 200, 300, 400, 500]}"
   ]
  },
  {
   "cell_type": "code",
   "execution_count": 7,
   "id": "02b32ac0",
   "metadata": {},
   "outputs": [
    {
     "data": {
      "text/plain": [
       "{'ones': [1, 2, 3, 4, 5],\n",
       " 'tens': [10, 20, 30, 40, 50],\n",
       " 'hundreds': [100, 200, 300, 400, 500]}"
      ]
     },
     "execution_count": 7,
     "metadata": {},
     "output_type": "execute_result"
    }
   ],
   "source": [
    "nos2"
   ]
  },
  {
   "cell_type": "markdown",
   "id": "29135344",
   "metadata": {},
   "source": [
    "The cell below is used to create a dictionary of strings:"
   ]
  },
  {
   "cell_type": "code",
   "execution_count": 8,
   "id": "3ca0edf6",
   "metadata": {},
   "outputs": [],
   "source": [
    "basket = {'box' : ['trouser', 'shirts', 'tie'],\n",
    "          'bag' : ['book', 'pen', 'laptop']}\n",
    "\n",
    "#My laptop is a lenovo"
   ]
  },
  {
   "cell_type": "code",
   "execution_count": 9,
   "id": "09fa09ec",
   "metadata": {},
   "outputs": [
    {
     "data": {
      "text/plain": [
       "{'box': ['trouser', 'shirts', 'tie'], 'bag': ['book', 'pen', 'laptop']}"
      ]
     },
     "execution_count": 9,
     "metadata": {},
     "output_type": "execute_result"
    }
   ],
   "source": [
    "basket"
   ]
  },
  {
   "cell_type": "markdown",
   "id": "2a5d557d",
   "metadata": {},
   "source": [
    "## Adding elements"
   ]
  },
  {
   "cell_type": "markdown",
   "id": "cd5996b7",
   "metadata": {},
   "source": [
    "Adding of items to a dictionary can be done using the key and value format:"
   ]
  },
  {
   "cell_type": "code",
   "execution_count": 10,
   "id": "4bf08a49",
   "metadata": {},
   "outputs": [],
   "source": [
    "nos2['thousands'] = [1000, 2000, 3000, 4000, 500]"
   ]
  },
  {
   "cell_type": "code",
   "execution_count": 11,
   "id": "c0f85d13",
   "metadata": {
    "scrolled": true
   },
   "outputs": [
    {
     "data": {
      "text/plain": [
       "{'ones': [1, 2, 3, 4, 5],\n",
       " 'tens': [10, 20, 30, 40, 50],\n",
       " 'hundreds': [100, 200, 300, 400, 500],\n",
       " 'thousands': [1000, 2000, 3000, 4000, 500]}"
      ]
     },
     "execution_count": 11,
     "metadata": {},
     "output_type": "execute_result"
    }
   ],
   "source": [
    "nos2"
   ]
  },
  {
   "cell_type": "markdown",
   "id": "dbad2790",
   "metadata": {},
   "source": [
    "The cells below are used to call for values stored in various keys:"
   ]
  },
  {
   "cell_type": "code",
   "execution_count": 12,
   "id": "85761229",
   "metadata": {},
   "outputs": [
    {
     "data": {
      "text/plain": [
       "[100, 200, 300, 400, 500]"
      ]
     },
     "execution_count": 12,
     "metadata": {},
     "output_type": "execute_result"
    }
   ],
   "source": [
    "nos2['hundreds']"
   ]
  },
  {
   "cell_type": "code",
   "execution_count": 13,
   "id": "138894a0",
   "metadata": {
    "scrolled": true
   },
   "outputs": [
    {
     "data": {
      "text/plain": [
       "[10, 20, 30, 40, 50]"
      ]
     },
     "execution_count": 13,
     "metadata": {},
     "output_type": "execute_result"
    }
   ],
   "source": [
    "nos2['tens']"
   ]
  },
  {
   "cell_type": "markdown",
   "id": "fd439201",
   "metadata": {},
   "source": [
    "## Accessing components of a dictionary"
   ]
  },
  {
   "cell_type": "markdown",
   "id": "ed7c2fce",
   "metadata": {},
   "source": [
    "Keys of dictionaries can be extracted as shown below:"
   ]
  },
  {
   "cell_type": "code",
   "execution_count": 14,
   "id": "3aa72562",
   "metadata": {},
   "outputs": [
    {
     "data": {
      "text/plain": [
       "dict_keys(['ones', 'tens', 'hundreds', 'thousands'])"
      ]
     },
     "execution_count": 14,
     "metadata": {},
     "output_type": "execute_result"
    }
   ],
   "source": [
    "nos2.keys()"
   ]
  },
  {
   "cell_type": "markdown",
   "id": "7cea879b",
   "metadata": {},
   "source": [
    "Values of dictionaries can be obtained as follows:"
   ]
  },
  {
   "cell_type": "code",
   "execution_count": 15,
   "id": "617faa1f",
   "metadata": {
    "scrolled": true
   },
   "outputs": [
    {
     "data": {
      "text/plain": [
       "dict_values([[1, 2, 3, 4, 5], [10, 20, 30, 40, 50], [100, 200, 300, 400, 500], [1000, 2000, 3000, 4000, 500]])"
      ]
     },
     "execution_count": 15,
     "metadata": {},
     "output_type": "execute_result"
    }
   ],
   "source": [
    "nos2.values()"
   ]
  },
  {
   "cell_type": "code",
   "execution_count": 16,
   "id": "8b20dc51",
   "metadata": {},
   "outputs": [
    {
     "name": "stdout",
     "output_type": "stream",
     "text": [
      "I have 2000 mangoes\n"
     ]
    }
   ],
   "source": [
    "print('I have ' + str(nos2['thousands'][1]) + ' mangoes')"
   ]
  },
  {
   "cell_type": "markdown",
   "id": "b3cc1fea",
   "metadata": {},
   "source": [
    "## Deleting items in a dictionary"
   ]
  },
  {
   "cell_type": "code",
   "execution_count": 17,
   "id": "15df8678",
   "metadata": {},
   "outputs": [],
   "source": [
    "del nos2['thousands']"
   ]
  },
  {
   "cell_type": "code",
   "execution_count": 18,
   "id": "5427fcae",
   "metadata": {
    "scrolled": true
   },
   "outputs": [
    {
     "data": {
      "text/plain": [
       "{'ones': [1, 2, 3, 4, 5],\n",
       " 'tens': [10, 20, 30, 40, 50],\n",
       " 'hundreds': [100, 200, 300, 400, 500]}"
      ]
     },
     "execution_count": 18,
     "metadata": {},
     "output_type": "execute_result"
    }
   ],
   "source": [
    "nos2"
   ]
  },
  {
   "cell_type": "markdown",
   "id": "5e1dfa77",
   "metadata": {},
   "source": [
    "A value of a dictionary can be deleted as follows:"
   ]
  },
  {
   "cell_type": "code",
   "execution_count": 19,
   "id": "a7d377f9",
   "metadata": {},
   "outputs": [],
   "source": [
    "del nos2['hundreds'][-1]"
   ]
  },
  {
   "cell_type": "markdown",
   "id": "71b9b2be",
   "metadata": {},
   "source": [
    "A confirmation of the above code is as shown below:"
   ]
  },
  {
   "cell_type": "code",
   "execution_count": 20,
   "id": "a94eb4a5",
   "metadata": {},
   "outputs": [
    {
     "data": {
      "text/plain": [
       "{'ones': [1, 2, 3, 4, 5],\n",
       " 'tens': [10, 20, 30, 40, 50],\n",
       " 'hundreds': [100, 200, 300, 400]}"
      ]
     },
     "execution_count": 20,
     "metadata": {},
     "output_type": "execute_result"
    }
   ],
   "source": [
    "nos2"
   ]
  },
  {
   "cell_type": "markdown",
   "id": "14df6faf",
   "metadata": {},
   "source": [
    "## Concatenation of items in dictionaries:"
   ]
  },
  {
   "cell_type": "code",
   "execution_count": 21,
   "id": "74bfd291",
   "metadata": {},
   "outputs": [],
   "source": [
    "basket = {'box' : ['trouser', 'shirts', 'tie'],\n",
    "          'bag' : ['book', 'pen', 'laptop']}\n",
    "\n",
    "#My laptop is a lenovo"
   ]
  },
  {
   "cell_type": "code",
   "execution_count": 22,
   "id": "36fdbd01",
   "metadata": {},
   "outputs": [
    {
     "name": "stdout",
     "output_type": "stream",
     "text": [
      "My laptop is a lenovo\n"
     ]
    }
   ],
   "source": [
    "print('My ' + basket['bag'][-1].lower() + ' is a lenovo')"
   ]
  },
  {
   "cell_type": "code",
   "execution_count": 23,
   "id": "b4effb6f",
   "metadata": {},
   "outputs": [
    {
     "data": {
      "text/plain": [
       "{'ones': [1, 2, 3, 4, 5],\n",
       " 'tens': [10, 20, 30, 40, 50],\n",
       " 'hundreds': [100, 200, 300, 400]}"
      ]
     },
     "execution_count": 23,
     "metadata": {},
     "output_type": "execute_result"
    }
   ],
   "source": [
    "nos2"
   ]
  },
  {
   "cell_type": "markdown",
   "id": "4879646d",
   "metadata": {},
   "source": [
    "## Looping through elements in a dictionary\n",
    "### Looping through keys"
   ]
  },
  {
   "cell_type": "code",
   "execution_count": 24,
   "id": "af07918b",
   "metadata": {},
   "outputs": [
    {
     "name": "stdout",
     "output_type": "stream",
     "text": [
      "Ones\n",
      "Tens\n",
      "Hundreds\n"
     ]
    }
   ],
   "source": [
    "for x in nos2.keys():\n",
    "    print(x.title())"
   ]
  },
  {
   "cell_type": "code",
   "execution_count": 25,
   "id": "b70705ce",
   "metadata": {},
   "outputs": [
    {
     "name": "stdout",
     "output_type": "stream",
     "text": [
      "Ones is a place value\n",
      "Tens is a place value\n",
      "Hundreds is a place value\n"
     ]
    }
   ],
   "source": [
    "for x in nos2.keys():\n",
    "    print(x.title()+ ' is a place value')"
   ]
  },
  {
   "cell_type": "markdown",
   "id": "02e7a59c",
   "metadata": {},
   "source": [
    "### Looping through values"
   ]
  },
  {
   "cell_type": "code",
   "execution_count": 26,
   "id": "e99dd084",
   "metadata": {
    "scrolled": true
   },
   "outputs": [
    {
     "name": "stdout",
     "output_type": "stream",
     "text": [
      "[1, 2, 3, 4, 5]\n",
      "[10, 20, 30, 40, 50]\n",
      "[100, 200, 300, 400]\n"
     ]
    }
   ],
   "source": [
    "for x in nos2.values():\n",
    "    print(x)"
   ]
  },
  {
   "cell_type": "code",
   "execution_count": 27,
   "id": "0f847266",
   "metadata": {},
   "outputs": [],
   "source": [
    "place_values = []\n",
    "values = []"
   ]
  },
  {
   "cell_type": "code",
   "execution_count": 28,
   "id": "5589ca76",
   "metadata": {},
   "outputs": [
    {
     "data": {
      "text/plain": [
       "list"
      ]
     },
     "execution_count": 28,
     "metadata": {},
     "output_type": "execute_result"
    }
   ],
   "source": [
    "type(place_values)"
   ]
  },
  {
   "cell_type": "markdown",
   "id": "2542aef1",
   "metadata": {},
   "source": [
    "The cell below is used to append keys in a dictionary to a list:"
   ]
  },
  {
   "cell_type": "code",
   "execution_count": 29,
   "id": "475ae5ba",
   "metadata": {},
   "outputs": [],
   "source": [
    "for x in nos2.keys():\n",
    "    place_values.append(x)"
   ]
  },
  {
   "cell_type": "code",
   "execution_count": 30,
   "id": "c5c7821f",
   "metadata": {},
   "outputs": [
    {
     "data": {
      "text/plain": [
       "['ones', 'tens', 'hundreds']"
      ]
     },
     "execution_count": 30,
     "metadata": {},
     "output_type": "execute_result"
    }
   ],
   "source": [
    "place_values"
   ]
  },
  {
   "cell_type": "markdown",
   "id": "940ac488",
   "metadata": {},
   "source": [
    "The cell below is used to append values in a dictionary to a list:"
   ]
  },
  {
   "cell_type": "code",
   "execution_count": 31,
   "id": "98afd07a",
   "metadata": {},
   "outputs": [],
   "source": [
    "for x in nos2.values():\n",
    "    values.append(x)"
   ]
  },
  {
   "cell_type": "code",
   "execution_count": 32,
   "id": "2f7caa6d",
   "metadata": {},
   "outputs": [
    {
     "data": {
      "text/plain": [
       "[[1, 2, 3, 4, 5], [10, 20, 30, 40, 50], [100, 200, 300, 400]]"
      ]
     },
     "execution_count": 32,
     "metadata": {},
     "output_type": "execute_result"
    }
   ],
   "source": [
    "values"
   ]
  },
  {
   "cell_type": "code",
   "execution_count": 33,
   "id": "93401da9",
   "metadata": {},
   "outputs": [
    {
     "data": {
      "text/plain": [
       "list"
      ]
     },
     "execution_count": 33,
     "metadata": {},
     "output_type": "execute_result"
    }
   ],
   "source": [
    "type(values)"
   ]
  },
  {
   "cell_type": "code",
   "execution_count": 34,
   "id": "40a4e544",
   "metadata": {},
   "outputs": [],
   "source": [
    "#LIBRARIES"
   ]
  }
 ],
 "metadata": {
  "kernelspec": {
   "display_name": "Python 3 (ipykernel)",
   "language": "python",
   "name": "python3"
  },
  "language_info": {
   "codemirror_mode": {
    "name": "ipython",
    "version": 3
   },
   "file_extension": ".py",
   "mimetype": "text/x-python",
   "name": "python",
   "nbconvert_exporter": "python",
   "pygments_lexer": "ipython3",
   "version": "3.9.7"
  }
 },
 "nbformat": 4,
 "nbformat_minor": 5
}
