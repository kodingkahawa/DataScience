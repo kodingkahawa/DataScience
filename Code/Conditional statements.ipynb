{
 "cells": [
  {
   "cell_type": "markdown",
   "id": "55746d2c",
   "metadata": {},
   "source": [
    "## CONDITIONAL STATEMENTS\n",
    "<p>Conditional statements are used to make a comparison between various conditions and carry out an action(s) if any situation is successful</p>"
   ]
  },
  {
   "cell_type": "code",
   "execution_count": 1,
   "id": "ea905152",
   "metadata": {},
   "outputs": [],
   "source": [
    "x = 50"
   ]
  },
  {
   "cell_type": "code",
   "execution_count": 2,
   "id": "c72204c3",
   "metadata": {},
   "outputs": [
    {
     "data": {
      "text/plain": [
       "50"
      ]
     },
     "execution_count": 2,
     "metadata": {},
     "output_type": "execute_result"
    }
   ],
   "source": [
    "x"
   ]
  },
  {
   "cell_type": "markdown",
   "id": "4ad1c4bb",
   "metadata": {},
   "source": [
    "The condtional statement below is used to print an output if a number is greater than 25:"
   ]
  },
  {
   "cell_type": "code",
   "execution_count": 3,
   "id": "9b251f50",
   "metadata": {},
   "outputs": [
    {
     "name": "stdout",
     "output_type": "stream",
     "text": [
      "50 is greater than 25\n"
     ]
    }
   ],
   "source": [
    "if x > 25:\n",
    "    print(str(x) + ' is greater than 25')"
   ]
  },
  {
   "cell_type": "markdown",
   "id": "41c4326c",
   "metadata": {},
   "source": [
    "The condtional statement below is used to print an output if a number is less than 25:"
   ]
  },
  {
   "cell_type": "code",
   "execution_count": 4,
   "id": "08a9284e",
   "metadata": {},
   "outputs": [],
   "source": [
    "if x < 25:\n",
    "    print(str(x) + ' is greater than 25')"
   ]
  },
  {
   "cell_type": "markdown",
   "id": "1cb28d27",
   "metadata": {},
   "source": [
    "The condtional statement below is used to print an output if a number is greaater than or less than 25:"
   ]
  },
  {
   "cell_type": "code",
   "execution_count": 5,
   "id": "c130c7fb",
   "metadata": {},
   "outputs": [
    {
     "name": "stdout",
     "output_type": "stream",
     "text": [
      "50 is less than 25\n"
     ]
    }
   ],
   "source": [
    "if x < 25:\n",
    "    print(str(x) + ' is greater than 25')\n",
    "else:\n",
    "    print(str(x) + ' is less than 25')"
   ]
  },
  {
   "cell_type": "markdown",
   "id": "c5c7ff53",
   "metadata": {},
   "source": [
    "### Odd vs. Even numbers\n",
    "<p>A user enters a number</p>\n",
    "<p>The program picks the number</p>\n",
    "<p>Processing is done to evaluate if the number is odd or even</p>"
   ]
  },
  {
   "cell_type": "code",
   "execution_count": 6,
   "id": "e3b2cfb3",
   "metadata": {},
   "outputs": [
    {
     "name": "stdout",
     "output_type": "stream",
     "text": [
      "Enter a number\n",
      "54\n"
     ]
    }
   ],
   "source": [
    "x = int(input('Enter a number\\n'))"
   ]
  },
  {
   "cell_type": "code",
   "execution_count": 7,
   "id": "ca2d86ac",
   "metadata": {},
   "outputs": [
    {
     "data": {
      "text/plain": [
       "54"
      ]
     },
     "execution_count": 7,
     "metadata": {},
     "output_type": "execute_result"
    }
   ],
   "source": [
    "x"
   ]
  },
  {
   "cell_type": "markdown",
   "id": "d93302ee",
   "metadata": {},
   "source": [
    "The conditional statement below uses the concept of modular operations to establish whether a number is odd or even:"
   ]
  },
  {
   "cell_type": "code",
   "execution_count": 8,
   "id": "fabd82ab",
   "metadata": {
    "scrolled": true
   },
   "outputs": [
    {
     "name": "stdout",
     "output_type": "stream",
     "text": [
      "54 is even\n"
     ]
    }
   ],
   "source": [
    "if x%2 == 0:\n",
    "    print(str(x) + \" is even\")\n",
    "else:\n",
    "    print(str(x) + \" is odd\")"
   ]
  },
  {
   "cell_type": "markdown",
   "id": "9bd9ca11",
   "metadata": {},
   "source": [
    "The conditional statement below is used to handle various users on the basis of their names:"
   ]
  },
  {
   "cell_type": "code",
   "execution_count": 9,
   "id": "2937e7b8",
   "metadata": {},
   "outputs": [
    {
     "name": "stdout",
     "output_type": "stream",
     "text": [
      "Please enter your name\n",
      "James\n"
     ]
    }
   ],
   "source": [
    "name = input('Please enter your name\\n')"
   ]
  },
  {
   "cell_type": "code",
   "execution_count": 10,
   "id": "13511ab7",
   "metadata": {},
   "outputs": [
    {
     "name": "stdout",
     "output_type": "stream",
     "text": [
      "Hello James\n"
     ]
    }
   ],
   "source": [
    "if name == 'James':\n",
    "    print('Hello ' + name)\n",
    "else:\n",
    "    print('Hello friend')"
   ]
  },
  {
   "cell_type": "code",
   "execution_count": 12,
   "id": "0020789c",
   "metadata": {},
   "outputs": [
    {
     "data": {
      "text/plain": [
       "5"
      ]
     },
     "execution_count": 12,
     "metadata": {},
     "output_type": "execute_result"
    }
   ],
   "source": [
    "#Variable definition\n",
    "x = 5\n",
    "x"
   ]
  },
  {
   "cell_type": "code",
   "execution_count": 13,
   "id": "75cde329",
   "metadata": {},
   "outputs": [
    {
     "data": {
      "text/plain": [
       "True"
      ]
     },
     "execution_count": 13,
     "metadata": {},
     "output_type": "execute_result"
    }
   ],
   "source": [
    "#Comparison\n",
    "x == 5"
   ]
  },
  {
   "cell_type": "markdown",
   "id": "df2b902d",
   "metadata": {},
   "source": [
    "### Nested conditions\n",
    "<p>In some instances, several conditions can be put one inside of the other to form a nested condition:</p>"
   ]
  },
  {
   "cell_type": "code",
   "execution_count": 14,
   "id": "93cf5700",
   "metadata": {},
   "outputs": [
    {
     "name": "stdout",
     "output_type": "stream",
     "text": [
      "7433287238425 is greater than 25 and is odd\n"
     ]
    }
   ],
   "source": [
    "num = 7433287238425\n",
    "if num < 25:\n",
    "    if num % 2 ==0:\n",
    "        print(str(num) + ' is less than 25 and is even')\n",
    "    else:\n",
    "        print(str(num) + ' is less than 25 and is odd')\n",
    "else:\n",
    "    if num % 2 ==0:\n",
    "        print(str(num) + ' is greater than 25 and is even')\n",
    "    else:\n",
    "        print(str(num) + ' is greater than 25 and is odd')"
   ]
  },
  {
   "cell_type": "markdown",
   "id": "7f57559e",
   "metadata": {},
   "source": [
    "### Multiple conditions\n",
    "<p>Write a program that distinguishes vowels and consonants</p>"
   ]
  },
  {
   "cell_type": "code",
   "execution_count": 15,
   "id": "f0cc0bcf",
   "metadata": {},
   "outputs": [
    {
     "name": "stdout",
     "output_type": "stream",
     "text": [
      "Please enter your letter of preference\n",
      "k\n"
     ]
    }
   ],
   "source": [
    "letter = input('Please enter your letter of preference\\n')"
   ]
  },
  {
   "cell_type": "code",
   "execution_count": 16,
   "id": "857826b1",
   "metadata": {},
   "outputs": [
    {
     "name": "stdout",
     "output_type": "stream",
     "text": [
      "k is a consonant\n"
     ]
    }
   ],
   "source": [
    "if letter == 'a':\n",
    "    print(letter + ' is a vowel')\n",
    "elif letter == 'e':\n",
    "    print(letter + ' is a vowel')\n",
    "elif letter == 'i':\n",
    "    print(letter + ' is a vowel')\n",
    "elif letter == 'o':\n",
    "    print(letter + ' is a vowel')\n",
    "elif letter == 'u':\n",
    "    print(letter + ' is a vowel')\n",
    "else:\n",
    "    print(letter + ' is a consonant')"
   ]
  },
  {
   "cell_type": "raw",
   "id": "52d2c008",
   "metadata": {},
   "source": [
    "Enter the first, second and third number\n",
    "greatest number is x\n",
    "least number is y"
   ]
  },
  {
   "cell_type": "code",
   "execution_count": 17,
   "id": "00c45751",
   "metadata": {},
   "outputs": [],
   "source": [
    "x=5\n",
    "y=7\n",
    "z=17"
   ]
  },
  {
   "cell_type": "code",
   "execution_count": 18,
   "id": "267c45b1",
   "metadata": {},
   "outputs": [
    {
     "data": {
      "text/plain": [
       "False"
      ]
     },
     "execution_count": 18,
     "metadata": {},
     "output_type": "execute_result"
    }
   ],
   "source": [
    "x<y and y>z"
   ]
  },
  {
   "cell_type": "code",
   "execution_count": null,
   "id": "3c82518d",
   "metadata": {},
   "outputs": [],
   "source": []
  }
 ],
 "metadata": {
  "kernelspec": {
   "display_name": "Python 3 (ipykernel)",
   "language": "python",
   "name": "python3"
  },
  "language_info": {
   "codemirror_mode": {
    "name": "ipython",
    "version": 3
   },
   "file_extension": ".py",
   "mimetype": "text/x-python",
   "name": "python",
   "nbconvert_exporter": "python",
   "pygments_lexer": "ipython3",
   "version": "3.9.7"
  }
 },
 "nbformat": 4,
 "nbformat_minor": 5
}
