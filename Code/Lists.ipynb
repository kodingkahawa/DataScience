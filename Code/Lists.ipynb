{
 "cells": [
  {
   "cell_type": "markdown",
   "id": "296b5dcd",
   "metadata": {},
   "source": [
    "<h1>Introduction to lists</h1>\n",
    "<h2>Creation of lists</h2>\n",
    "\n",
    "<p>A list is created as shown below:</p>"
   ]
  },
  {
   "cell_type": "code",
   "execution_count": 1,
   "id": "99343b19",
   "metadata": {},
   "outputs": [],
   "source": [
    "list_name = ['Element']"
   ]
  },
  {
   "cell_type": "code",
   "execution_count": 2,
   "id": "e9ed3dd6",
   "metadata": {},
   "outputs": [],
   "source": [
    "lint = [25, 26, 27, 28]"
   ]
  },
  {
   "cell_type": "code",
   "execution_count": 3,
   "id": "99a845f1",
   "metadata": {},
   "outputs": [
    {
     "data": {
      "text/plain": [
       "[25, 26, 27, 28]"
      ]
     },
     "execution_count": 3,
     "metadata": {},
     "output_type": "execute_result"
    }
   ],
   "source": [
    "lint"
   ]
  },
  {
   "cell_type": "code",
   "execution_count": 4,
   "id": "2c50c490",
   "metadata": {},
   "outputs": [],
   "source": [
    "l2 = [25, 26, 27, 28, 'alex']"
   ]
  },
  {
   "cell_type": "code",
   "execution_count": 5,
   "id": "3465b8fa",
   "metadata": {},
   "outputs": [
    {
     "data": {
      "text/plain": [
       "[25, 26, 27, 28, 'alex']"
      ]
     },
     "execution_count": 5,
     "metadata": {},
     "output_type": "execute_result"
    }
   ],
   "source": [
    "l2"
   ]
  },
  {
   "cell_type": "code",
   "execution_count": 6,
   "id": "76f8ec5c",
   "metadata": {},
   "outputs": [],
   "source": [
    "lfloats = [37.5, 50.5, 45.5]"
   ]
  },
  {
   "cell_type": "code",
   "execution_count": 7,
   "id": "219f58b1",
   "metadata": {},
   "outputs": [
    {
     "data": {
      "text/plain": [
       "[37.5, 50.5, 45.5]"
      ]
     },
     "execution_count": 7,
     "metadata": {},
     "output_type": "execute_result"
    }
   ],
   "source": [
    "lfloats"
   ]
  },
  {
   "cell_type": "code",
   "execution_count": 8,
   "id": "dc9e19ee",
   "metadata": {},
   "outputs": [],
   "source": [
    "lstr = ['New Jersey', 'Bangok', 'Cairo', 'Mexico City']"
   ]
  },
  {
   "cell_type": "code",
   "execution_count": 9,
   "id": "4cd1cedd",
   "metadata": {},
   "outputs": [
    {
     "data": {
      "text/plain": [
       "['New Jersey', 'Bangok', 'Cairo', 'Mexico City']"
      ]
     },
     "execution_count": 9,
     "metadata": {},
     "output_type": "execute_result"
    }
   ],
   "source": [
    "lstr"
   ]
  },
  {
   "cell_type": "code",
   "execution_count": 10,
   "id": "d5251bd7",
   "metadata": {},
   "outputs": [],
   "source": [
    "lbools = [True, False]"
   ]
  },
  {
   "cell_type": "code",
   "execution_count": 11,
   "id": "872d07fd",
   "metadata": {},
   "outputs": [
    {
     "data": {
      "text/plain": [
       "[True, False]"
      ]
     },
     "execution_count": 11,
     "metadata": {},
     "output_type": "execute_result"
    }
   ],
   "source": [
    "lbools"
   ]
  },
  {
   "cell_type": "code",
   "execution_count": 12,
   "id": "c76c01d3",
   "metadata": {},
   "outputs": [],
   "source": [
    "combination = ['Jeniffer', 37, 1000.60, False]"
   ]
  },
  {
   "cell_type": "code",
   "execution_count": 13,
   "id": "85f446a3",
   "metadata": {},
   "outputs": [
    {
     "data": {
      "text/plain": [
       "['Jeniffer', 37, 1000.6, False]"
      ]
     },
     "execution_count": 13,
     "metadata": {},
     "output_type": "execute_result"
    }
   ],
   "source": [
    "combination"
   ]
  },
  {
   "cell_type": "code",
   "execution_count": 14,
   "id": "066854f4",
   "metadata": {},
   "outputs": [
    {
     "data": {
      "text/plain": [
       "[37.5, 50.2, 45.6]"
      ]
     },
     "execution_count": 14,
     "metadata": {},
     "output_type": "execute_result"
    }
   ],
   "source": [
    "lfloats = [37.5,50.2,45.6]\n",
    "lfloats"
   ]
  },
  {
   "cell_type": "markdown",
   "id": "8312f27e",
   "metadata": {},
   "source": [
    "A lambda operation can be done on lists:"
   ]
  },
  {
   "cell_type": "code",
   "execution_count": 15,
   "id": "7f0cb474",
   "metadata": {
    "scrolled": true
   },
   "outputs": [
    {
     "data": {
      "text/plain": [
       "[0, 5, 10, 15, 20, 25, 30, 35, 40, 45, 50]"
      ]
     },
     "execution_count": 15,
     "metadata": {},
     "output_type": "execute_result"
    }
   ],
   "source": [
    "#Lambda\n",
    "numbers = [5*x for x in range(11)]\n",
    "numbers"
   ]
  },
  {
   "cell_type": "markdown",
   "id": "34c27b66",
   "metadata": {},
   "source": [
    "## Indexing in lists\n",
    "### Positive indexing\n",
    "<p>This concept is used to get the value of an element based on its position. It is important to remember that indexing starts from zero:</p>"
   ]
  },
  {
   "cell_type": "code",
   "execution_count": 16,
   "id": "11845d06",
   "metadata": {},
   "outputs": [
    {
     "data": {
      "text/plain": [
       "37.5"
      ]
     },
     "execution_count": 16,
     "metadata": {},
     "output_type": "execute_result"
    }
   ],
   "source": [
    "lfloats[0]"
   ]
  },
  {
   "cell_type": "code",
   "execution_count": 17,
   "id": "c057c5d7",
   "metadata": {},
   "outputs": [
    {
     "data": {
      "text/plain": [
       "50.2"
      ]
     },
     "execution_count": 17,
     "metadata": {},
     "output_type": "execute_result"
    }
   ],
   "source": [
    "lfloats[1]"
   ]
  },
  {
   "cell_type": "code",
   "execution_count": 18,
   "id": "07dbf5e7",
   "metadata": {
    "scrolled": true
   },
   "outputs": [
    {
     "data": {
      "text/plain": [
       "45.6"
      ]
     },
     "execution_count": 18,
     "metadata": {},
     "output_type": "execute_result"
    }
   ],
   "source": [
    "lfloats[2]"
   ]
  },
  {
   "cell_type": "code",
   "execution_count": 19,
   "id": "e5809408",
   "metadata": {},
   "outputs": [
    {
     "data": {
      "text/plain": [
       "['New Jersey', 'Bangok', 'Cairo', 'Mexico City', 25, 26, 27, 28, 'alex']"
      ]
     },
     "execution_count": 19,
     "metadata": {},
     "output_type": "execute_result"
    }
   ],
   "source": [
    "x = ['New Jersey', 'Bangok', 'Cairo',\\\n",
    "    'Mexico City',25, 26, 27, 28, 'alex']\n",
    "x"
   ]
  },
  {
   "cell_type": "code",
   "execution_count": 20,
   "id": "fdd68220",
   "metadata": {
    "scrolled": true
   },
   "outputs": [
    {
     "data": {
      "text/plain": [
       "['New Jersey', 'Bangok', 'Cairo', 'Mexico City', 25, 26, 27, 28, 'alex']"
      ]
     },
     "execution_count": 20,
     "metadata": {},
     "output_type": "execute_result"
    }
   ],
   "source": [
    "x"
   ]
  },
  {
   "cell_type": "markdown",
   "id": "62db65c8",
   "metadata": {},
   "source": [
    "### Negative indexing\n",
    "<p>This concept is used to get an element from the last position in the list:</p>"
   ]
  },
  {
   "cell_type": "code",
   "execution_count": 21,
   "id": "be2c1731",
   "metadata": {},
   "outputs": [
    {
     "data": {
      "text/plain": [
       "['New Jersey', 'Bangok', 'Cairo', 'Mexico City', 25, 26, 27, 28, 'alex']"
      ]
     },
     "execution_count": 21,
     "metadata": {},
     "output_type": "execute_result"
    }
   ],
   "source": [
    "x"
   ]
  },
  {
   "cell_type": "code",
   "execution_count": 22,
   "id": "a5d67df5",
   "metadata": {
    "scrolled": true
   },
   "outputs": [
    {
     "data": {
      "text/plain": [
       "'alex'"
      ]
     },
     "execution_count": 22,
     "metadata": {},
     "output_type": "execute_result"
    }
   ],
   "source": [
    "x[-1]"
   ]
  },
  {
   "cell_type": "code",
   "execution_count": 23,
   "id": "b66a2f08",
   "metadata": {},
   "outputs": [
    {
     "data": {
      "text/plain": [
       "28"
      ]
     },
     "execution_count": 23,
     "metadata": {},
     "output_type": "execute_result"
    }
   ],
   "source": [
    "x[-2]"
   ]
  },
  {
   "cell_type": "code",
   "execution_count": 24,
   "id": "ebd42f35",
   "metadata": {},
   "outputs": [
    {
     "data": {
      "text/plain": [
       "27"
      ]
     },
     "execution_count": 24,
     "metadata": {},
     "output_type": "execute_result"
    }
   ],
   "source": [
    "x[-3]"
   ]
  },
  {
   "cell_type": "markdown",
   "id": "875bff78",
   "metadata": {},
   "source": [
    "## Slicing in lists\n",
    "<p>Slicing refers to the extraction of specific elements of a cell as shown in the cells below:</p>"
   ]
  },
  {
   "cell_type": "code",
   "execution_count": 25,
   "id": "2c42d269",
   "metadata": {},
   "outputs": [
    {
     "data": {
      "text/plain": [
       "9"
      ]
     },
     "execution_count": 25,
     "metadata": {},
     "output_type": "execute_result"
    }
   ],
   "source": [
    "len(x)"
   ]
  },
  {
   "cell_type": "code",
   "execution_count": 26,
   "id": "d32de93c",
   "metadata": {},
   "outputs": [
    {
     "data": {
      "text/plain": [
       "['New Jersey', 'Bangok', 'Cairo', 'Mexico City', 25, 26, 27, 28, 'alex']"
      ]
     },
     "execution_count": 26,
     "metadata": {},
     "output_type": "execute_result"
    }
   ],
   "source": [
    "x"
   ]
  },
  {
   "cell_type": "code",
   "execution_count": 27,
   "id": "6df9b13b",
   "metadata": {},
   "outputs": [
    {
     "data": {
      "text/plain": [
       "['New Jersey', 'Bangok', 'Cairo', 'Mexico City']"
      ]
     },
     "execution_count": 27,
     "metadata": {},
     "output_type": "execute_result"
    }
   ],
   "source": [
    "x[0:4]"
   ]
  },
  {
   "cell_type": "code",
   "execution_count": 28,
   "id": "8a2086c8",
   "metadata": {},
   "outputs": [
    {
     "data": {
      "text/plain": [
       "['Bangok', 'Cairo', 'Mexico City']"
      ]
     },
     "execution_count": 28,
     "metadata": {},
     "output_type": "execute_result"
    }
   ],
   "source": [
    "x[1:4]"
   ]
  },
  {
   "cell_type": "code",
   "execution_count": 29,
   "id": "2fe888ba",
   "metadata": {},
   "outputs": [
    {
     "data": {
      "text/plain": [
       "['Cairo', 'Mexico City', 25, 26, 27, 28]"
      ]
     },
     "execution_count": 29,
     "metadata": {},
     "output_type": "execute_result"
    }
   ],
   "source": [
    "x[2:-1]"
   ]
  },
  {
   "cell_type": "code",
   "execution_count": 30,
   "id": "310590e0",
   "metadata": {},
   "outputs": [
    {
     "data": {
      "text/plain": [
       "['Cairo', 'Mexico City', 25, 26, 27, 28, 'alex']"
      ]
     },
     "execution_count": 30,
     "metadata": {},
     "output_type": "execute_result"
    }
   ],
   "source": [
    "x[2:]"
   ]
  },
  {
   "cell_type": "markdown",
   "id": "386d649c",
   "metadata": {},
   "source": [
    "## Appending of elements in lists"
   ]
  },
  {
   "cell_type": "code",
   "execution_count": 31,
   "id": "9e71f1fd",
   "metadata": {},
   "outputs": [
    {
     "data": {
      "text/plain": [
       "['New Jersey', 'Bangok', 'Cairo', 'Mexico City']"
      ]
     },
     "execution_count": 31,
     "metadata": {},
     "output_type": "execute_result"
    }
   ],
   "source": [
    "lstr"
   ]
  },
  {
   "cell_type": "code",
   "execution_count": 32,
   "id": "2a6fd750",
   "metadata": {},
   "outputs": [],
   "source": [
    "lstr = ['New Jersey', 'Bangok', 'Cairo', 'Mexico City', 'Nairobi']"
   ]
  },
  {
   "cell_type": "code",
   "execution_count": 33,
   "id": "af525cb7",
   "metadata": {},
   "outputs": [
    {
     "data": {
      "text/plain": [
       "['New Jersey', 'Bangok', 'Cairo', 'Mexico City', 'Nairobi']"
      ]
     },
     "execution_count": 33,
     "metadata": {},
     "output_type": "execute_result"
    }
   ],
   "source": [
    "lstr"
   ]
  },
  {
   "cell_type": "code",
   "execution_count": 34,
   "id": "9d51991a",
   "metadata": {},
   "outputs": [],
   "source": [
    "lcp = lstr.copy()"
   ]
  },
  {
   "cell_type": "code",
   "execution_count": 35,
   "id": "e686cdd9",
   "metadata": {
    "scrolled": true
   },
   "outputs": [
    {
     "data": {
      "text/plain": [
       "['New Jersey', 'Bangok', 'Cairo', 'Mexico City', 'Nairobi']"
      ]
     },
     "execution_count": 35,
     "metadata": {},
     "output_type": "execute_result"
    }
   ],
   "source": [
    "lcp"
   ]
  },
  {
   "cell_type": "markdown",
   "id": "11e23256",
   "metadata": {},
   "source": [
    "The append function is used to add an element to a list:"
   ]
  },
  {
   "cell_type": "code",
   "execution_count": 36,
   "id": "f393f77e",
   "metadata": {},
   "outputs": [],
   "source": [
    "lcp.append('Kiev')"
   ]
  },
  {
   "cell_type": "code",
   "execution_count": 37,
   "id": "f4ee5d79",
   "metadata": {},
   "outputs": [
    {
     "data": {
      "text/plain": [
       "['New Jersey', 'Bangok', 'Cairo', 'Mexico City', 'Nairobi', 'Kiev']"
      ]
     },
     "execution_count": 37,
     "metadata": {},
     "output_type": "execute_result"
    }
   ],
   "source": [
    "lcp"
   ]
  },
  {
   "cell_type": "markdown",
   "id": "4413d6c7",
   "metadata": {},
   "source": [
    "## Deleting items from lists"
   ]
  },
  {
   "cell_type": "code",
   "execution_count": 38,
   "id": "5b63afa5",
   "metadata": {},
   "outputs": [],
   "source": [
    "del lcp[1]"
   ]
  },
  {
   "cell_type": "code",
   "execution_count": 39,
   "id": "6b00599e",
   "metadata": {},
   "outputs": [
    {
     "data": {
      "text/plain": [
       "['New Jersey', 'Cairo', 'Mexico City', 'Nairobi', 'Kiev']"
      ]
     },
     "execution_count": 39,
     "metadata": {},
     "output_type": "execute_result"
    }
   ],
   "source": [
    "lcp"
   ]
  },
  {
   "cell_type": "code",
   "execution_count": 40,
   "id": "1a401e36",
   "metadata": {},
   "outputs": [
    {
     "data": {
      "text/plain": [
       "[0, 5, 10, 15, 20, 25, 30, 35, 40, 45, 50]"
      ]
     },
     "execution_count": 40,
     "metadata": {},
     "output_type": "execute_result"
    }
   ],
   "source": [
    "numbers"
   ]
  },
  {
   "cell_type": "markdown",
   "id": "be05236c",
   "metadata": {},
   "source": [
    "## Looping lists\n",
    "<p>There are various types of loops:</p>\n",
    "<ol>\n",
    "    <li>For loop</li>\n",
    "    <li>While loop</li>\n",
    "    <li>Do loop</li>\n",
    "</ol>"
   ]
  },
  {
   "cell_type": "code",
   "execution_count": 41,
   "id": "7c23e9eb",
   "metadata": {},
   "outputs": [
    {
     "data": {
      "text/plain": [
       "[0, 5, 10, 15, 20, 25, 30, 35, 40, 45, 50]"
      ]
     },
     "execution_count": 41,
     "metadata": {},
     "output_type": "execute_result"
    }
   ],
   "source": [
    "numbers"
   ]
  },
  {
   "cell_type": "code",
   "execution_count": 42,
   "id": "e3fd72de",
   "metadata": {
    "scrolled": true
   },
   "outputs": [
    {
     "name": "stdout",
     "output_type": "stream",
     "text": [
      "This is number 0\n",
      "This is number 5\n",
      "This is number 10\n",
      "This is number 15\n",
      "This is number 20\n",
      "This is number 25\n",
      "This is number 30\n",
      "This is number 35\n",
      "This is number 40\n",
      "This is number 45\n",
      "This is number 50\n"
     ]
    }
   ],
   "source": [
    "#For each element in numbers, print this is number (for each item in the list)\n",
    "\n",
    "\n",
    "\n",
    "for x in numbers:\n",
    "    print(\"This is number \" + str(x))"
   ]
  },
  {
   "cell_type": "markdown",
   "id": "eedc057e",
   "metadata": {},
   "source": [
    "## Common list functions\n",
    "<p>The <b>len()</b> function is used to calculate the number of elements in a cell:</p>"
   ]
  },
  {
   "cell_type": "code",
   "execution_count": 43,
   "id": "37374060",
   "metadata": {
    "scrolled": true
   },
   "outputs": [
    {
     "data": {
      "text/plain": [
       "11"
      ]
     },
     "execution_count": 43,
     "metadata": {},
     "output_type": "execute_result"
    }
   ],
   "source": [
    "len(numbers)"
   ]
  },
  {
   "cell_type": "markdown",
   "id": "1e4362d3",
   "metadata": {},
   "source": [
    "<p>The <b>sum()</b> function is used to add numerical/float elements in a cell:</p>"
   ]
  },
  {
   "cell_type": "code",
   "execution_count": 44,
   "id": "8aad9671",
   "metadata": {
    "scrolled": true
   },
   "outputs": [
    {
     "data": {
      "text/plain": [
       "275"
      ]
     },
     "execution_count": 44,
     "metadata": {},
     "output_type": "execute_result"
    }
   ],
   "source": [
    "sum(numbers)"
   ]
  },
  {
   "cell_type": "markdown",
   "id": "80d39c05",
   "metadata": {},
   "source": [
    "<p>The <b>max()</b> function is used to find the largest number in a cell:</p>"
   ]
  },
  {
   "cell_type": "code",
   "execution_count": 45,
   "id": "ff8066ab",
   "metadata": {},
   "outputs": [
    {
     "data": {
      "text/plain": [
       "50"
      ]
     },
     "execution_count": 45,
     "metadata": {},
     "output_type": "execute_result"
    }
   ],
   "source": [
    "max(numbers)"
   ]
  },
  {
   "cell_type": "markdown",
   "id": "b1e9af41",
   "metadata": {},
   "source": [
    "<p>The <b>min()</b> function is used to find the largest number in a cell:</p>"
   ]
  },
  {
   "cell_type": "code",
   "execution_count": 46,
   "id": "da0d9ede",
   "metadata": {},
   "outputs": [
    {
     "data": {
      "text/plain": [
       "0"
      ]
     },
     "execution_count": 46,
     "metadata": {},
     "output_type": "execute_result"
    }
   ],
   "source": [
    "min(numbers)"
   ]
  },
  {
   "cell_type": "code",
   "execution_count": 47,
   "id": "4c8c61b6",
   "metadata": {
    "scrolled": true
   },
   "outputs": [
    {
     "data": {
      "text/plain": [
       "['New Jersey', 'Bangok', 'Cairo', 'Mexico City', 'Nairobi']"
      ]
     },
     "execution_count": 47,
     "metadata": {},
     "output_type": "execute_result"
    }
   ],
   "source": [
    "lstr"
   ]
  },
  {
   "cell_type": "markdown",
   "id": "0265bd5f",
   "metadata": {},
   "source": [
    "<p>The <b>insert()</b> function is used to add an element to a specific position in a list. The positon of the element being inserted comes first before the element itself in the function:</p>"
   ]
  },
  {
   "cell_type": "code",
   "execution_count": 48,
   "id": "c8e58f78",
   "metadata": {},
   "outputs": [],
   "source": [
    "lstr.insert(1, 'Dodoma')"
   ]
  },
  {
   "cell_type": "code",
   "execution_count": 49,
   "id": "c76adce2",
   "metadata": {
    "scrolled": true
   },
   "outputs": [
    {
     "data": {
      "text/plain": [
       "['New Jersey', 'Dodoma', 'Bangok', 'Cairo', 'Mexico City', 'Nairobi']"
      ]
     },
     "execution_count": 49,
     "metadata": {},
     "output_type": "execute_result"
    }
   ],
   "source": [
    "lstr"
   ]
  },
  {
   "cell_type": "code",
   "execution_count": 50,
   "id": "a1d9a690",
   "metadata": {},
   "outputs": [],
   "source": [
    "lstr.insert(4, 'London')"
   ]
  },
  {
   "cell_type": "code",
   "execution_count": 51,
   "id": "45409d56",
   "metadata": {
    "scrolled": true
   },
   "outputs": [
    {
     "data": {
      "text/plain": [
       "['New Jersey', 'Dodoma', 'Bangok', 'Cairo', 'London', 'Mexico City', 'Nairobi']"
      ]
     },
     "execution_count": 51,
     "metadata": {},
     "output_type": "execute_result"
    }
   ],
   "source": [
    "lstr"
   ]
  },
  {
   "cell_type": "code",
   "execution_count": 52,
   "id": "c245be74",
   "metadata": {
    "scrolled": true
   },
   "outputs": [
    {
     "data": {
      "text/plain": [
       "list"
      ]
     },
     "execution_count": 52,
     "metadata": {},
     "output_type": "execute_result"
    }
   ],
   "source": [
    "type(lstr)"
   ]
  },
  {
   "cell_type": "markdown",
   "id": "ec6ded4e",
   "metadata": {},
   "source": [
    "<p>The reverse function is used to make the first element be the last while the first one becomes the last:</p>"
   ]
  },
  {
   "cell_type": "code",
   "execution_count": 53,
   "id": "182eadf0",
   "metadata": {},
   "outputs": [],
   "source": [
    "lstr.reverse()"
   ]
  },
  {
   "cell_type": "code",
   "execution_count": 54,
   "id": "6633ff9a",
   "metadata": {},
   "outputs": [
    {
     "data": {
      "text/plain": [
       "['Nairobi', 'Mexico City', 'London', 'Cairo', 'Bangok', 'Dodoma', 'New Jersey']"
      ]
     },
     "execution_count": 54,
     "metadata": {},
     "output_type": "execute_result"
    }
   ],
   "source": [
    "lstr"
   ]
  },
  {
   "cell_type": "code",
   "execution_count": 55,
   "id": "b8d125d8",
   "metadata": {},
   "outputs": [
    {
     "data": {
      "text/plain": [
       "['Nairobi', 'Mexico City', 'London', 'Cairo', 'Bangok', 'Dodoma', 'New Jersey']"
      ]
     },
     "execution_count": 55,
     "metadata": {},
     "output_type": "execute_result"
    }
   ],
   "source": [
    "lstr"
   ]
  },
  {
   "cell_type": "code",
   "execution_count": null,
   "id": "1c6af385",
   "metadata": {},
   "outputs": [],
   "source": []
  }
 ],
 "metadata": {
  "kernelspec": {
   "display_name": "Python 3 (ipykernel)",
   "language": "python",
   "name": "python3"
  },
  "language_info": {
   "codemirror_mode": {
    "name": "ipython",
    "version": 3
   },
   "file_extension": ".py",
   "mimetype": "text/x-python",
   "name": "python",
   "nbconvert_exporter": "python",
   "pygments_lexer": "ipython3",
   "version": "3.9.7"
  }
 },
 "nbformat": 4,
 "nbformat_minor": 5
}
