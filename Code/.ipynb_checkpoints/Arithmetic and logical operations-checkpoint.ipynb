{
 "cells": [
  {
   "cell_type": "markdown",
   "id": "aab962d5",
   "metadata": {},
   "source": [
    "### Arithmetic operations\n",
    "<p>Three variables which will be used for the arithmetic operations are created as shown below:</p>"
   ]
  },
  {
   "cell_type": "code",
   "execution_count": 1,
   "id": "79279804",
   "metadata": {},
   "outputs": [],
   "source": [
    "five = 5"
   ]
  },
  {
   "cell_type": "code",
   "execution_count": 2,
   "id": "517f53a8",
   "metadata": {},
   "outputs": [],
   "source": [
    "eight = 8"
   ]
  },
  {
   "cell_type": "code",
   "execution_count": 3,
   "id": "22460ace",
   "metadata": {},
   "outputs": [],
   "source": [
    "fifth = 5"
   ]
  },
  {
   "cell_type": "code",
   "execution_count": 4,
   "id": "e54d4255",
   "metadata": {
    "scrolled": true
   },
   "outputs": [
    {
     "data": {
      "text/plain": [
       "int"
      ]
     },
     "execution_count": 4,
     "metadata": {},
     "output_type": "execute_result"
    }
   ],
   "source": [
    "type(five)"
   ]
  },
  {
   "cell_type": "markdown",
   "id": "5d718a11",
   "metadata": {},
   "source": [
    "<p>The following are the commonly used arithmetic operations:</p>\n",
    "<ol>\n",
    "    <li>Equals to</li>\n",
    "    <li>Less than</li>\n",
    "    <li>Greater than</li>\n",
    "    <li>Greater than or equal to</li>\n",
    "    <li>Less than or equal to</li>\n",
    "</ol>"
   ]
  },
  {
   "cell_type": "markdown",
   "id": "4a53a634",
   "metadata": {},
   "source": [
    "<p>Equals to:</p> "
   ]
  },
  {
   "cell_type": "code",
   "execution_count": 5,
   "id": "23fe9eda",
   "metadata": {},
   "outputs": [
    {
     "data": {
      "text/plain": [
       "True"
      ]
     },
     "execution_count": 5,
     "metadata": {},
     "output_type": "execute_result"
    }
   ],
   "source": [
    "five == fifth"
   ]
  },
  {
   "cell_type": "markdown",
   "id": "0136747f",
   "metadata": {},
   "source": [
    "<p>Less than</p>"
   ]
  },
  {
   "cell_type": "code",
   "execution_count": 6,
   "id": "07595bf8",
   "metadata": {},
   "outputs": [
    {
     "data": {
      "text/plain": [
       "True"
      ]
     },
     "execution_count": 6,
     "metadata": {},
     "output_type": "execute_result"
    }
   ],
   "source": [
    "five < eight"
   ]
  },
  {
   "cell_type": "code",
   "execution_count": 7,
   "id": "c72a5852",
   "metadata": {},
   "outputs": [
    {
     "data": {
      "text/plain": [
       "False"
      ]
     },
     "execution_count": 7,
     "metadata": {},
     "output_type": "execute_result"
    }
   ],
   "source": [
    "#Greater than\n",
    "eight < five"
   ]
  },
  {
   "cell_type": "code",
   "execution_count": 8,
   "id": "ef2b4174",
   "metadata": {},
   "outputs": [
    {
     "data": {
      "text/plain": [
       "True"
      ]
     },
     "execution_count": 8,
     "metadata": {},
     "output_type": "execute_result"
    }
   ],
   "source": [
    "#Greater than or equal to\n",
    "eight >= five"
   ]
  },
  {
   "cell_type": "code",
   "execution_count": 9,
   "id": "90489b15",
   "metadata": {},
   "outputs": [
    {
     "data": {
      "text/plain": [
       "True"
      ]
     },
     "execution_count": 9,
     "metadata": {},
     "output_type": "execute_result"
    }
   ],
   "source": [
    "#Less than or equal to\n",
    "five <= eight"
   ]
  },
  {
   "cell_type": "markdown",
   "id": "31c24083",
   "metadata": {},
   "source": [
    "### Logical operations\n",
    "<p>There are two main types of logical operations:</p>\n",
    "<ol>\n",
    "    <li>Or</li>\n",
    "    <li>And</li>\n",
    "</ol>"
   ]
  },
  {
   "cell_type": "markdown",
   "id": "4ddf07a7",
   "metadata": {},
   "source": [
    "<p>The and operation is as shown below:</p>"
   ]
  },
  {
   "cell_type": "code",
   "execution_count": 10,
   "id": "06da08d5",
   "metadata": {
    "scrolled": true
   },
   "outputs": [
    {
     "data": {
      "text/plain": [
       "True"
      ]
     },
     "execution_count": 10,
     "metadata": {},
     "output_type": "execute_result"
    }
   ],
   "source": [
    "#Or\n",
    "eight >= five or five <= eight"
   ]
  },
  {
   "cell_type": "code",
   "execution_count": 11,
   "id": "57a86e05",
   "metadata": {
    "scrolled": true
   },
   "outputs": [
    {
     "data": {
      "text/plain": [
       "False"
      ]
     },
     "execution_count": 11,
     "metadata": {},
     "output_type": "execute_result"
    }
   ],
   "source": [
    "#And\n",
    "eight>= five and eight <= five"
   ]
  },
  {
   "cell_type": "code",
   "execution_count": null,
   "id": "d4252556",
   "metadata": {},
   "outputs": [],
   "source": []
  }
 ],
 "metadata": {
  "kernelspec": {
   "display_name": "Python 3 (ipykernel)",
   "language": "python",
   "name": "python3"
  },
  "language_info": {
   "codemirror_mode": {
    "name": "ipython",
    "version": 3
   },
   "file_extension": ".py",
   "mimetype": "text/x-python",
   "name": "python",
   "nbconvert_exporter": "python",
   "pygments_lexer": "ipython3",
   "version": "3.9.7"
  }
 },
 "nbformat": 4,
 "nbformat_minor": 5
}
