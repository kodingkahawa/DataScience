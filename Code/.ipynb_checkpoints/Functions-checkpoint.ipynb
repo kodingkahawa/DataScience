{
 "cells": [
  {
   "cell_type": "markdown",
   "id": "4b281cf5",
   "metadata": {},
   "source": [
    "## Functions\n",
    "<p>Functions are items in programming which when called upon, give an output based on the instructions and input given.</p>\n",
    "<p>There are two kinds of functions:</p>\n",
    "<ol>\n",
    "    <li><b>Inbuilt functions - </b>These are functions that come along with the Python programming language</li>\n",
    "    <li><b>Predefined functions - </b>These are functions created by the user to solve particular problem(s)</li>\n",
    "</ol>\n",
    "<p>Functions take up the structure illustrated in the cell below:</p>"
   ]
  },
  {
   "cell_type": "raw",
   "id": "f2a89620",
   "metadata": {},
   "source": [
    "## EXAMPLE ONE\n",
    "*def* function_name(parameter_x, parameter_y):\n",
    "    <logic with dependence on the parameters picked>\n",
    "return output(May have been defined from the logic)\n",
    "\n",
    "## EXAMPLE TWO\n",
    "type(x)\n",
    "    What is the data type of x\n",
    "return y"
   ]
  },
  {
   "cell_type": "markdown",
   "id": "4fb9500f",
   "metadata": {},
   "source": [
    "After defining a function using the syntax shown above, the function can be initialized using the structure below:"
   ]
  },
  {
   "cell_type": "raw",
   "id": "b9629dea",
   "metadata": {},
   "source": [
    "function_name(x, y)"
   ]
  },
  {
   "cell_type": "markdown",
   "id": "7852ff70",
   "metadata": {},
   "source": [
    "The function below is used to print a simple Python statement:"
   ]
  },
  {
   "cell_type": "code",
   "execution_count": 1,
   "id": "13840a21",
   "metadata": {},
   "outputs": [],
   "source": [
    "def my_func():\n",
    "  print(\"Hi. This is my first function\")"
   ]
  },
  {
   "cell_type": "markdown",
   "id": "d1479394",
   "metadata": {},
   "source": [
    "In order to run it, the command below can be used:"
   ]
  },
  {
   "cell_type": "code",
   "execution_count": 2,
   "id": "27eade83",
   "metadata": {
    "scrolled": true
   },
   "outputs": [
    {
     "name": "stdout",
     "output_type": "stream",
     "text": [
      "Hi. This is my first function\n"
     ]
    }
   ],
   "source": [
    "my_func()"
   ]
  },
  {
   "cell_type": "markdown",
   "id": "29401e30",
   "metadata": {},
   "source": [
    "The function below greets a person after knowing his/her place:"
   ]
  },
  {
   "cell_type": "code",
   "execution_count": 3,
   "id": "776a8eb7",
   "metadata": {},
   "outputs": [],
   "source": [
    "def name_place(name,place):\n",
    "  print(f\"Hello {name}! It is great knowing you live in {place}\")"
   ]
  },
  {
   "cell_type": "code",
   "execution_count": 4,
   "id": "1138471e",
   "metadata": {},
   "outputs": [
    {
     "name": "stdout",
     "output_type": "stream",
     "text": [
      "Hello Kevin! It is great knowing you live in Nairobi\n"
     ]
    }
   ],
   "source": [
    "name_place('Kevin', 'Nairobi')"
   ]
  },
  {
   "cell_type": "code",
   "execution_count": 5,
   "id": "9c4ec17e",
   "metadata": {},
   "outputs": [],
   "source": [
    "#A function that adds two numbers\n",
    "def addition(x, y):\n",
    "    z = x + y\n",
    "    return z"
   ]
  },
  {
   "cell_type": "code",
   "execution_count": null,
   "id": "0c41b96f",
   "metadata": {},
   "outputs": [],
   "source": []
  },
  {
   "cell_type": "code",
   "execution_count": null,
   "id": "41853cb5",
   "metadata": {},
   "outputs": [],
   "source": []
  },
  {
   "cell_type": "code",
   "execution_count": 6,
   "id": "aca7e2b5",
   "metadata": {},
   "outputs": [],
   "source": [
    "#A function that adds two numbers\n",
    "def multiplication(x, y):\n",
    "    return x*y"
   ]
  },
  {
   "cell_type": "code",
   "execution_count": 7,
   "id": "6b9ac323",
   "metadata": {},
   "outputs": [
    {
     "data": {
      "text/plain": [
       "45"
      ]
     },
     "execution_count": 7,
     "metadata": {},
     "output_type": "execute_result"
    }
   ],
   "source": [
    "addition(20, 25)"
   ]
  },
  {
   "cell_type": "code",
   "execution_count": 8,
   "id": "d92844ee",
   "metadata": {},
   "outputs": [
    {
     "data": {
      "text/plain": [
       "500"
      ]
     },
     "execution_count": 8,
     "metadata": {},
     "output_type": "execute_result"
    }
   ],
   "source": [
    "multiplication(20, 25)"
   ]
  },
  {
   "cell_type": "markdown",
   "id": "b3730128",
   "metadata": {},
   "source": [
    "The function below is used to calculate a percentage discount to be given to a customer:"
   ]
  },
  {
   "cell_type": "code",
   "execution_count": 9,
   "id": "2a17e3bd",
   "metadata": {},
   "outputs": [],
   "source": [
    "def total_calc(bill_amount,discount):\n",
    "    pay = bill_amount*(1 - 0.01*discount)\n",
    "    pay = round(pay, 2)\n",
    "    return print(f\"Please pay ksh. {pay}\")"
   ]
  },
  {
   "cell_type": "code",
   "execution_count": 10,
   "id": "b7e74670",
   "metadata": {
    "scrolled": true
   },
   "outputs": [
    {
     "name": "stdout",
     "output_type": "stream",
     "text": [
      "Please pay ksh. 4500.0\n"
     ]
    }
   ],
   "source": [
    "total_calc(5000, 10)"
   ]
  },
  {
   "cell_type": "markdown",
   "id": "4493a5b0",
   "metadata": {},
   "source": [
    "The function below is used to calculate the area of a cuboid:"
   ]
  },
  {
   "cell_type": "code",
   "execution_count": 11,
   "id": "158fb530",
   "metadata": {},
   "outputs": [],
   "source": [
    "def cuboid_volume(length, width, height):\n",
    "    return length*width*height"
   ]
  },
  {
   "cell_type": "code",
   "execution_count": 12,
   "id": "b65121c2",
   "metadata": {
    "scrolled": false
   },
   "outputs": [
    {
     "data": {
      "text/plain": [
       "320"
      ]
     },
     "execution_count": 12,
     "metadata": {},
     "output_type": "execute_result"
    }
   ],
   "source": [
    "cuboid_volume(10,4,8)"
   ]
  },
  {
   "cell_type": "markdown",
   "id": "8a86c426",
   "metadata": {},
   "source": [
    "The function below greets someone on the basis of his/her name:"
   ]
  },
  {
   "cell_type": "code",
   "execution_count": 13,
   "id": "b999ff09",
   "metadata": {},
   "outputs": [],
   "source": [
    "def name(x):\n",
    "    #x = input('Please enter your name\\n')\n",
    "    if x == 'Mercy':\n",
    "        print('Hello ' + x)\n",
    "    elif x == 'Otieno':\n",
    "        print('Hello ' + x)\n",
    "    else:\n",
    "        print('How are you today?')\n",
    "    return  "
   ]
  },
  {
   "cell_type": "code",
   "execution_count": 14,
   "id": "e18609e4",
   "metadata": {},
   "outputs": [
    {
     "name": "stdout",
     "output_type": "stream",
     "text": [
      "How are you today?\n"
     ]
    }
   ],
   "source": [
    "name('Esther')"
   ]
  },
  {
   "cell_type": "code",
   "execution_count": null,
   "id": "daed3d2c",
   "metadata": {},
   "outputs": [],
   "source": []
  },
  {
   "cell_type": "code",
   "execution_count": null,
   "id": "04b1b91b",
   "metadata": {},
   "outputs": [],
   "source": []
  }
 ],
 "metadata": {
  "kernelspec": {
   "display_name": "Python 3 (ipykernel)",
   "language": "python",
   "name": "python3"
  },
  "language_info": {
   "codemirror_mode": {
    "name": "ipython",
    "version": 3
   },
   "file_extension": ".py",
   "mimetype": "text/x-python",
   "name": "python",
   "nbconvert_exporter": "python",
   "pygments_lexer": "ipython3",
   "version": "3.9.7"
  }
 },
 "nbformat": 4,
 "nbformat_minor": 5
}
