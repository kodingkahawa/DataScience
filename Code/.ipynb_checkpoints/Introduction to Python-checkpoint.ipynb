{
 "cells": [
  {
   "cell_type": "code",
   "execution_count": 1,
   "id": "c3c7788d",
   "metadata": {},
   "outputs": [
    {
     "name": "stdout",
     "output_type": "stream",
     "text": [
      "This is my first line\n"
     ]
    }
   ],
   "source": [
    "print('This is my first line')"
   ]
  },
  {
   "cell_type": "code",
   "execution_count": 2,
   "id": "eb90699f",
   "metadata": {},
   "outputs": [
    {
     "name": "stdout",
     "output_type": "stream",
     "text": [
      "This is my first line\n",
      "This is my second line\n"
     ]
    }
   ],
   "source": [
    "print('This is my first line\\nThis is my second line')"
   ]
  },
  {
   "cell_type": "code",
   "execution_count": 3,
   "id": "f7b124a7",
   "metadata": {},
   "outputs": [
    {
     "data": {
      "text/plain": [
       "'Timothy'"
      ]
     },
     "execution_count": 3,
     "metadata": {},
     "output_type": "execute_result"
    }
   ],
   "source": [
    "name = 'Timothy'\n",
    "name"
   ]
  },
  {
   "cell_type": "markdown",
   "id": "35e5dc2b",
   "metadata": {},
   "source": [
    "## Data types\n",
    "<ol>\n",
    "    <li><b>String</b> - A collection of letters, characters and numbers mixed together</li>\n",
    "    <li><b>Integer</b> - A whole number</li>\n",
    "    <li><b>Float</b> - A decimal</li>\n",
    "    <li><b>Boolean</b> - It is a selection between two options</li>\n",
    "</ol>\n",
    "<p>The function below is used to identify the type of data that is inserted into it:</p>"
   ]
  },
  {
   "cell_type": "code",
   "execution_count": 4,
   "id": "570b9757",
   "metadata": {},
   "outputs": [
    {
     "data": {
      "text/plain": [
       "str"
      ]
     },
     "execution_count": 4,
     "metadata": {},
     "output_type": "execute_result"
    }
   ],
   "source": [
    "type(name)"
   ]
  },
  {
   "cell_type": "code",
   "execution_count": 5,
   "id": "c3932bf9",
   "metadata": {},
   "outputs": [
    {
     "data": {
      "text/plain": [
       "str"
      ]
     },
     "execution_count": 5,
     "metadata": {},
     "output_type": "execute_result"
    }
   ],
   "source": [
    "type('Catherine')"
   ]
  },
  {
   "cell_type": "code",
   "execution_count": 6,
   "id": "99e0eebb",
   "metadata": {},
   "outputs": [
    {
     "data": {
      "text/plain": [
       "int"
      ]
     },
     "execution_count": 6,
     "metadata": {},
     "output_type": "execute_result"
    }
   ],
   "source": [
    "type(922022)"
   ]
  },
  {
   "cell_type": "code",
   "execution_count": 7,
   "id": "465df9a5",
   "metadata": {},
   "outputs": [
    {
     "data": {
      "text/plain": [
       "str"
      ]
     },
     "execution_count": 7,
     "metadata": {},
     "output_type": "execute_result"
    }
   ],
   "source": [
    "type('922022')"
   ]
  },
  {
   "cell_type": "code",
   "execution_count": 8,
   "id": "934c7f4c",
   "metadata": {},
   "outputs": [
    {
     "data": {
      "text/plain": [
       "float"
      ]
     },
     "execution_count": 8,
     "metadata": {},
     "output_type": "execute_result"
    }
   ],
   "source": [
    "type(9220.22)"
   ]
  },
  {
   "cell_type": "code",
   "execution_count": 9,
   "id": "089af2bc",
   "metadata": {},
   "outputs": [
    {
     "data": {
      "text/plain": [
       "str"
      ]
     },
     "execution_count": 9,
     "metadata": {},
     "output_type": "execute_result"
    }
   ],
   "source": [
    "type('9220.22')"
   ]
  },
  {
   "cell_type": "markdown",
   "id": "3fb7115b",
   "metadata": {},
   "source": [
    "## Concatenation"
   ]
  },
  {
   "cell_type": "markdown",
   "id": "221c3200",
   "metadata": {},
   "source": [
    "<p>Concatenation is joining two or more items together to form merged item</p>"
   ]
  },
  {
   "cell_type": "code",
   "execution_count": 10,
   "id": "ff501d26",
   "metadata": {},
   "outputs": [
    {
     "data": {
      "text/plain": [
       "'Timothy'"
      ]
     },
     "execution_count": 10,
     "metadata": {},
     "output_type": "execute_result"
    }
   ],
   "source": [
    "name"
   ]
  },
  {
   "cell_type": "code",
   "execution_count": 11,
   "id": "1cb40f49",
   "metadata": {},
   "outputs": [],
   "source": [
    "age = 18"
   ]
  },
  {
   "cell_type": "code",
   "execution_count": 12,
   "id": "40477cdc",
   "metadata": {},
   "outputs": [],
   "source": [
    "height = '1.6'"
   ]
  },
  {
   "cell_type": "code",
   "execution_count": 13,
   "id": "cc773c0e",
   "metadata": {},
   "outputs": [],
   "source": [
    "weight = 52.555"
   ]
  },
  {
   "cell_type": "code",
   "execution_count": 14,
   "id": "5fa61e53",
   "metadata": {},
   "outputs": [
    {
     "data": {
      "text/plain": [
       "str"
      ]
     },
     "execution_count": 14,
     "metadata": {},
     "output_type": "execute_result"
    }
   ],
   "source": [
    "type(height)"
   ]
  },
  {
   "cell_type": "code",
   "execution_count": 15,
   "id": "45d62923",
   "metadata": {},
   "outputs": [
    {
     "name": "stdout",
     "output_type": "stream",
     "text": [
      "Timothy is my friend\n"
     ]
    }
   ],
   "source": [
    "print(name + ' is my friend')"
   ]
  },
  {
   "cell_type": "code",
   "execution_count": 16,
   "id": "bb63ff06",
   "metadata": {},
   "outputs": [
    {
     "name": "stdout",
     "output_type": "stream",
     "text": [
      "Timothy is 1.6m tall\n"
     ]
    }
   ],
   "source": [
    "print(name + ' is ' + height + 'm tall')"
   ]
  },
  {
   "cell_type": "code",
   "execution_count": 17,
   "id": "c489cf0c",
   "metadata": {},
   "outputs": [
    {
     "name": "stdout",
     "output_type": "stream",
     "text": [
      "Timothy is 18 years old\n"
     ]
    }
   ],
   "source": [
    "print(name + ' is ' + str(age) +' years old')"
   ]
  },
  {
   "cell_type": "code",
   "execution_count": 18,
   "id": "6d2cd7a4",
   "metadata": {},
   "outputs": [
    {
     "data": {
      "text/plain": [
       "int"
      ]
     },
     "execution_count": 18,
     "metadata": {},
     "output_type": "execute_result"
    }
   ],
   "source": [
    "type(age)"
   ]
  },
  {
   "cell_type": "code",
   "execution_count": 19,
   "id": "e09182a0",
   "metadata": {},
   "outputs": [
    {
     "name": "stdout",
     "output_type": "stream",
     "text": [
      "Timothy is 52.555kg\n"
     ]
    }
   ],
   "source": [
    "print(name + ' is ' + str(weight) + 'kg')"
   ]
  },
  {
   "cell_type": "code",
   "execution_count": 20,
   "id": "73cf5f8b",
   "metadata": {},
   "outputs": [
    {
     "data": {
      "text/plain": [
       "float"
      ]
     },
     "execution_count": 20,
     "metadata": {},
     "output_type": "execute_result"
    }
   ],
   "source": [
    "type(weight)"
   ]
  },
  {
   "cell_type": "markdown",
   "id": "ad5db749",
   "metadata": {},
   "source": [
    "## String Operations"
   ]
  },
  {
   "cell_type": "code",
   "execution_count": 21,
   "id": "356a22c1",
   "metadata": {},
   "outputs": [
    {
     "data": {
      "text/plain": [
       "'Timothy'"
      ]
     },
     "execution_count": 21,
     "metadata": {},
     "output_type": "execute_result"
    }
   ],
   "source": [
    "name"
   ]
  },
  {
   "cell_type": "code",
   "execution_count": 22,
   "id": "7f285c58",
   "metadata": {},
   "outputs": [
    {
     "data": {
      "text/plain": [
       "'T'"
      ]
     },
     "execution_count": 22,
     "metadata": {},
     "output_type": "execute_result"
    }
   ],
   "source": [
    "name[0]"
   ]
  },
  {
   "cell_type": "code",
   "execution_count": 23,
   "id": "d9f59d06",
   "metadata": {},
   "outputs": [
    {
     "data": {
      "text/plain": [
       "'m'"
      ]
     },
     "execution_count": 23,
     "metadata": {},
     "output_type": "execute_result"
    }
   ],
   "source": [
    "name[2]"
   ]
  },
  {
   "cell_type": "code",
   "execution_count": 24,
   "id": "e9df0ed7",
   "metadata": {
    "scrolled": true
   },
   "outputs": [
    {
     "data": {
      "text/plain": [
       "'TIMOTHY'"
      ]
     },
     "execution_count": 24,
     "metadata": {},
     "output_type": "execute_result"
    }
   ],
   "source": [
    "name.upper()"
   ]
  },
  {
   "cell_type": "code",
   "execution_count": 25,
   "id": "fcad07f2",
   "metadata": {},
   "outputs": [
    {
     "data": {
      "text/plain": [
       "'timothy'"
      ]
     },
     "execution_count": 25,
     "metadata": {},
     "output_type": "execute_result"
    }
   ],
   "source": [
    "name.lower()"
   ]
  },
  {
   "cell_type": "code",
   "execution_count": 26,
   "id": "3cb53647",
   "metadata": {},
   "outputs": [
    {
     "data": {
      "text/plain": [
       "'Timothy'"
      ]
     },
     "execution_count": 26,
     "metadata": {},
     "output_type": "execute_result"
    }
   ],
   "source": [
    "name"
   ]
  },
  {
   "cell_type": "code",
   "execution_count": 27,
   "id": "ebe86dfc",
   "metadata": {},
   "outputs": [
    {
     "data": {
      "text/plain": [
       "False"
      ]
     },
     "execution_count": 27,
     "metadata": {},
     "output_type": "execute_result"
    }
   ],
   "source": [
    "name.isupper()"
   ]
  },
  {
   "cell_type": "code",
   "execution_count": 28,
   "id": "344ba607",
   "metadata": {},
   "outputs": [],
   "source": [
    "her_name = 'JANE'"
   ]
  },
  {
   "cell_type": "code",
   "execution_count": 29,
   "id": "ac31c695",
   "metadata": {},
   "outputs": [
    {
     "data": {
      "text/plain": [
       "True"
      ]
     },
     "execution_count": 29,
     "metadata": {},
     "output_type": "execute_result"
    }
   ],
   "source": [
    "her_name.isupper()"
   ]
  },
  {
   "cell_type": "code",
   "execution_count": 30,
   "id": "56093106",
   "metadata": {},
   "outputs": [
    {
     "data": {
      "text/plain": [
       "str"
      ]
     },
     "execution_count": 30,
     "metadata": {},
     "output_type": "execute_result"
    }
   ],
   "source": [
    "type(name)"
   ]
  },
  {
   "cell_type": "code",
   "execution_count": 31,
   "id": "8229b25e",
   "metadata": {},
   "outputs": [
    {
     "data": {
      "text/plain": [
       "7"
      ]
     },
     "execution_count": 31,
     "metadata": {},
     "output_type": "execute_result"
    }
   ],
   "source": [
    "len(name)"
   ]
  },
  {
   "cell_type": "code",
   "execution_count": 32,
   "id": "a18561db",
   "metadata": {},
   "outputs": [
    {
     "data": {
      "text/plain": [
       "6"
      ]
     },
     "execution_count": 32,
     "metadata": {},
     "output_type": "execute_result"
    }
   ],
   "source": [
    "#This is a Python comment\n",
    "#One was added to make it become readable to a normal human\n",
    "name.index('h') + 1"
   ]
  },
  {
   "cell_type": "code",
   "execution_count": 33,
   "id": "242b9e6b",
   "metadata": {},
   "outputs": [],
   "source": [
    "statement = 'king'"
   ]
  },
  {
   "cell_type": "code",
   "execution_count": 34,
   "id": "e5c9dfb4",
   "metadata": {
    "scrolled": true
   },
   "outputs": [
    {
     "data": {
      "text/plain": [
       "'ding'"
      ]
     },
     "execution_count": 34,
     "metadata": {},
     "output_type": "execute_result"
    }
   ],
   "source": [
    "statement.replace('k', 'd')"
   ]
  },
  {
   "cell_type": "markdown",
   "id": "da70dff2",
   "metadata": {},
   "source": [
    "## Mathematical operations"
   ]
  },
  {
   "cell_type": "code",
   "execution_count": 35,
   "id": "f698bb0c",
   "metadata": {},
   "outputs": [
    {
     "data": {
      "text/plain": [
       "int"
      ]
     },
     "execution_count": 35,
     "metadata": {},
     "output_type": "execute_result"
    }
   ],
   "source": [
    "type(name.index('h'))"
   ]
  },
  {
   "cell_type": "code",
   "execution_count": 36,
   "id": "2a9d4b25",
   "metadata": {},
   "outputs": [],
   "source": [
    "avg_cost = '50'\n",
    "avg_cost2 = 50"
   ]
  },
  {
   "cell_type": "code",
   "execution_count": 37,
   "id": "3fb8b92c",
   "metadata": {},
   "outputs": [
    {
     "data": {
      "text/plain": [
       "100"
      ]
     },
     "execution_count": 37,
     "metadata": {},
     "output_type": "execute_result"
    }
   ],
   "source": [
    "avg_cost2 + 50 "
   ]
  },
  {
   "cell_type": "code",
   "execution_count": 38,
   "id": "0560cd06",
   "metadata": {},
   "outputs": [
    {
     "data": {
      "text/plain": [
       "'5050'"
      ]
     },
     "execution_count": 38,
     "metadata": {},
     "output_type": "execute_result"
    }
   ],
   "source": [
    "avg_cost + str(50)"
   ]
  },
  {
   "cell_type": "code",
   "execution_count": 39,
   "id": "26774709",
   "metadata": {},
   "outputs": [
    {
     "data": {
      "text/plain": [
       "63"
      ]
     },
     "execution_count": 39,
     "metadata": {},
     "output_type": "execute_result"
    }
   ],
   "source": [
    "34 + 29"
   ]
  },
  {
   "cell_type": "code",
   "execution_count": 40,
   "id": "f61ef6a6",
   "metadata": {},
   "outputs": [
    {
     "data": {
      "text/plain": [
       "86427.0"
      ]
     },
     "execution_count": 40,
     "metadata": {},
     "output_type": "execute_result"
    }
   ],
   "source": [
    "432135 / 5"
   ]
  },
  {
   "cell_type": "code",
   "execution_count": 41,
   "id": "10eea1f3",
   "metadata": {},
   "outputs": [
    {
     "data": {
      "text/plain": [
       "20"
      ]
     },
     "execution_count": 41,
     "metadata": {},
     "output_type": "execute_result"
    }
   ],
   "source": [
    "32 - 12"
   ]
  },
  {
   "cell_type": "code",
   "execution_count": 42,
   "id": "5733090e",
   "metadata": {},
   "outputs": [
    {
     "data": {
      "text/plain": [
       "460"
      ]
     },
     "execution_count": 42,
     "metadata": {},
     "output_type": "execute_result"
    }
   ],
   "source": [
    "20 * 23"
   ]
  },
  {
   "cell_type": "code",
   "execution_count": 43,
   "id": "45de0c9f",
   "metadata": {},
   "outputs": [
    {
     "data": {
      "text/plain": [
       "3.25"
      ]
     },
     "execution_count": 43,
     "metadata": {},
     "output_type": "execute_result"
    }
   ],
   "source": [
    "13/4"
   ]
  },
  {
   "cell_type": "code",
   "execution_count": 44,
   "id": "d2670a31",
   "metadata": {},
   "outputs": [
    {
     "data": {
      "text/plain": [
       "1"
      ]
     },
     "execution_count": 44,
     "metadata": {},
     "output_type": "execute_result"
    }
   ],
   "source": [
    "13%4"
   ]
  },
  {
   "cell_type": "code",
   "execution_count": 45,
   "id": "f5645814",
   "metadata": {},
   "outputs": [
    {
     "data": {
      "text/plain": [
       "6"
      ]
     },
     "execution_count": 45,
     "metadata": {},
     "output_type": "execute_result"
    }
   ],
   "source": [
    "20%7"
   ]
  },
  {
   "cell_type": "code",
   "execution_count": 46,
   "id": "fdfcff56",
   "metadata": {},
   "outputs": [],
   "source": [
    "x = -35"
   ]
  },
  {
   "cell_type": "code",
   "execution_count": 47,
   "id": "d76844ba",
   "metadata": {},
   "outputs": [
    {
     "data": {
      "text/plain": [
       "-35"
      ]
     },
     "execution_count": 47,
     "metadata": {},
     "output_type": "execute_result"
    }
   ],
   "source": [
    "x"
   ]
  },
  {
   "cell_type": "code",
   "execution_count": 48,
   "id": "b22f313f",
   "metadata": {},
   "outputs": [
    {
     "data": {
      "text/plain": [
       "int"
      ]
     },
     "execution_count": 48,
     "metadata": {},
     "output_type": "execute_result"
    }
   ],
   "source": [
    "type(x)"
   ]
  },
  {
   "cell_type": "code",
   "execution_count": 49,
   "id": "7fdbe4d6",
   "metadata": {},
   "outputs": [],
   "source": [
    "y = abs(x)"
   ]
  },
  {
   "cell_type": "code",
   "execution_count": 50,
   "id": "9dd627a8",
   "metadata": {},
   "outputs": [
    {
     "data": {
      "text/plain": [
       "35"
      ]
     },
     "execution_count": 50,
     "metadata": {},
     "output_type": "execute_result"
    }
   ],
   "source": [
    "y"
   ]
  },
  {
   "cell_type": "code",
   "execution_count": 51,
   "id": "e3f9d098",
   "metadata": {},
   "outputs": [
    {
     "data": {
      "text/plain": [
       "int"
      ]
     },
     "execution_count": 51,
     "metadata": {},
     "output_type": "execute_result"
    }
   ],
   "source": [
    "type(y)"
   ]
  },
  {
   "cell_type": "code",
   "execution_count": 52,
   "id": "b62552a9",
   "metadata": {},
   "outputs": [
    {
     "data": {
      "text/plain": [
       "88"
      ]
     },
     "execution_count": 52,
     "metadata": {},
     "output_type": "execute_result"
    }
   ],
   "source": [
    "max((23,53,88,35))"
   ]
  },
  {
   "cell_type": "code",
   "execution_count": 53,
   "id": "d94c59f8",
   "metadata": {},
   "outputs": [
    {
     "data": {
      "text/plain": [
       "23"
      ]
     },
     "execution_count": 53,
     "metadata": {},
     "output_type": "execute_result"
    }
   ],
   "source": [
    "min((23,53,88,35))"
   ]
  },
  {
   "cell_type": "code",
   "execution_count": 54,
   "id": "1ed5c137",
   "metadata": {},
   "outputs": [
    {
     "data": {
      "text/plain": [
       "52.555"
      ]
     },
     "execution_count": 54,
     "metadata": {},
     "output_type": "execute_result"
    }
   ],
   "source": [
    "weight"
   ]
  },
  {
   "cell_type": "code",
   "execution_count": 55,
   "id": "7e685204",
   "metadata": {},
   "outputs": [
    {
     "data": {
      "text/plain": [
       "52.6"
      ]
     },
     "execution_count": 55,
     "metadata": {},
     "output_type": "execute_result"
    }
   ],
   "source": [
    "round(weight, 1)"
   ]
  },
  {
   "cell_type": "code",
   "execution_count": 56,
   "id": "a19e1bae",
   "metadata": {},
   "outputs": [
    {
     "data": {
      "text/plain": [
       "53"
      ]
     },
     "execution_count": 56,
     "metadata": {},
     "output_type": "execute_result"
    }
   ],
   "source": [
    "round(weight)"
   ]
  },
  {
   "cell_type": "code",
   "execution_count": 57,
   "id": "6ebac4b4",
   "metadata": {},
   "outputs": [
    {
     "data": {
      "text/plain": [
       "'0b101101'"
      ]
     },
     "execution_count": 57,
     "metadata": {},
     "output_type": "execute_result"
    }
   ],
   "source": [
    "#Values are converted to zeros and ones for processing in computers\n",
    "bin(45)"
   ]
  },
  {
   "cell_type": "code",
   "execution_count": 59,
   "id": "0e36079b",
   "metadata": {},
   "outputs": [],
   "source": [
    "from math import sqrt"
   ]
  },
  {
   "cell_type": "code",
   "execution_count": 60,
   "id": "782be900",
   "metadata": {},
   "outputs": [
    {
     "data": {
      "text/plain": [
       "100.0"
      ]
     },
     "execution_count": 60,
     "metadata": {},
     "output_type": "execute_result"
    }
   ],
   "source": [
    "sqrt(10000)"
   ]
  },
  {
   "cell_type": "code",
   "execution_count": null,
   "id": "110160e1",
   "metadata": {},
   "outputs": [],
   "source": [
    "import math"
   ]
  },
  {
   "cell_type": "code",
   "execution_count": null,
   "id": "778baada",
   "metadata": {},
   "outputs": [],
   "source": [
    "#An asterik is used to represent 'all'\n",
    "from math import *"
   ]
  },
  {
   "cell_type": "code",
   "execution_count": null,
   "id": "4b833788",
   "metadata": {},
   "outputs": [],
   "source": [
    "sqrt(10000)"
   ]
  },
  {
   "cell_type": "markdown",
   "id": "5d2c7bf3",
   "metadata": {},
   "source": [
    "## Project"
   ]
  },
  {
   "cell_type": "markdown",
   "id": "febb9f61",
   "metadata": {},
   "source": [
    "<p>1. Create a sentence and store it in a variable</p>\n",
    "<p>2. Output the sentence</p>\n",
    "<p>3. Make a user to provide an input of the word to replace</p>\n",
    "<p>4. Make a user to provide an input of the word to replace it with</p>\n",
    "<p>5. Output the new sentence</p>"
   ]
  },
  {
   "cell_type": "code",
   "execution_count": 63,
   "id": "9672b182",
   "metadata": {},
   "outputs": [],
   "source": [
    "sentence  = 'I am a trainer'"
   ]
  },
  {
   "cell_type": "code",
   "execution_count": 64,
   "id": "6475f682",
   "metadata": {},
   "outputs": [
    {
     "data": {
      "text/plain": [
       "'I am a trainer'"
      ]
     },
     "execution_count": 64,
     "metadata": {},
     "output_type": "execute_result"
    }
   ],
   "source": [
    "sentence"
   ]
  },
  {
   "cell_type": "code",
   "execution_count": 85,
   "id": "b9714212",
   "metadata": {},
   "outputs": [
    {
     "name": "stdout",
     "output_type": "stream",
     "text": [
      "Please enter the word you want to replace: trainer\n"
     ]
    }
   ],
   "source": [
    "word1 = input('Please enter the word you want to replace: ')"
   ]
  },
  {
   "cell_type": "code",
   "execution_count": 86,
   "id": "36dba740",
   "metadata": {},
   "outputs": [
    {
     "data": {
      "text/plain": [
       "'trainer'"
      ]
     },
     "execution_count": 86,
     "metadata": {},
     "output_type": "execute_result"
    }
   ],
   "source": [
    "word1"
   ]
  },
  {
   "cell_type": "code",
   "execution_count": 87,
   "id": "4c8ceca2",
   "metadata": {},
   "outputs": [
    {
     "name": "stdout",
     "output_type": "stream",
     "text": [
      "Please enter the word you want to replace trainer with: professional\n"
     ]
    }
   ],
   "source": [
    "word2 = input('Please enter the word you want to replace ' + word1 + ' with: ')"
   ]
  },
  {
   "cell_type": "code",
   "execution_count": 88,
   "id": "d12c5829",
   "metadata": {},
   "outputs": [
    {
     "data": {
      "text/plain": [
       "'trainer'"
      ]
     },
     "execution_count": 88,
     "metadata": {},
     "output_type": "execute_result"
    }
   ],
   "source": [
    "word1"
   ]
  },
  {
   "cell_type": "code",
   "execution_count": 89,
   "id": "5d07620b",
   "metadata": {},
   "outputs": [
    {
     "data": {
      "text/plain": [
       "'professional'"
      ]
     },
     "execution_count": 89,
     "metadata": {},
     "output_type": "execute_result"
    }
   ],
   "source": [
    "word2"
   ]
  },
  {
   "cell_type": "code",
   "execution_count": 90,
   "id": "e884f14f",
   "metadata": {},
   "outputs": [
    {
     "name": "stdout",
     "output_type": "stream",
     "text": [
      "I am a professional\n"
     ]
    }
   ],
   "source": [
    "print(sentence.replace(word1, word2))"
   ]
  },
  {
   "cell_type": "code",
   "execution_count": null,
   "id": "3e872c1b",
   "metadata": {},
   "outputs": [],
   "source": []
  },
  {
   "cell_type": "code",
   "execution_count": null,
   "id": "98b44668",
   "metadata": {},
   "outputs": [],
   "source": []
  },
  {
   "cell_type": "code",
   "execution_count": null,
   "id": "6fed5223",
   "metadata": {},
   "outputs": [],
   "source": []
  },
  {
   "cell_type": "code",
   "execution_count": 66,
   "id": "ed0ce77c",
   "metadata": {},
   "outputs": [
    {
     "name": "stdout",
     "output_type": "stream",
     "text": [
      "Please enter your name\n",
      "Rose\n"
     ]
    }
   ],
   "source": [
    "name = input('Please enter your name\\n')"
   ]
  },
  {
   "cell_type": "code",
   "execution_count": 67,
   "id": "bad2f272",
   "metadata": {},
   "outputs": [
    {
     "name": "stdout",
     "output_type": "stream",
     "text": [
      "Rose\n"
     ]
    }
   ],
   "source": [
    "print(name)"
   ]
  },
  {
   "cell_type": "code",
   "execution_count": 68,
   "id": "98ad15db",
   "metadata": {},
   "outputs": [
    {
     "data": {
      "text/plain": [
       "str"
      ]
     },
     "execution_count": 68,
     "metadata": {},
     "output_type": "execute_result"
    }
   ],
   "source": [
    "type(name)"
   ]
  },
  {
   "cell_type": "code",
   "execution_count": 70,
   "id": "1409786b",
   "metadata": {},
   "outputs": [
    {
     "name": "stdout",
     "output_type": "stream",
     "text": [
      "Please enter your age 32\n"
     ]
    }
   ],
   "source": [
    "age = int(input('Please enter your age '))"
   ]
  },
  {
   "cell_type": "code",
   "execution_count": 71,
   "id": "02fcb371",
   "metadata": {},
   "outputs": [
    {
     "data": {
      "text/plain": [
       "32"
      ]
     },
     "execution_count": 71,
     "metadata": {},
     "output_type": "execute_result"
    }
   ],
   "source": [
    "age"
   ]
  },
  {
   "cell_type": "code",
   "execution_count": 72,
   "id": "c7d3ced2",
   "metadata": {},
   "outputs": [
    {
     "data": {
      "text/plain": [
       "int"
      ]
     },
     "execution_count": 72,
     "metadata": {},
     "output_type": "execute_result"
    }
   ],
   "source": [
    "type(age)"
   ]
  },
  {
   "cell_type": "code",
   "execution_count": null,
   "id": "74dc2c03",
   "metadata": {},
   "outputs": [],
   "source": []
  }
 ],
 "metadata": {
  "kernelspec": {
   "display_name": "Python 3 (ipykernel)",
   "language": "python",
   "name": "python3"
  },
  "language_info": {
   "codemirror_mode": {
    "name": "ipython",
    "version": 3
   },
   "file_extension": ".py",
   "mimetype": "text/x-python",
   "name": "python",
   "nbconvert_exporter": "python",
   "pygments_lexer": "ipython3",
   "version": "3.9.7"
  }
 },
 "nbformat": 4,
 "nbformat_minor": 5
}
