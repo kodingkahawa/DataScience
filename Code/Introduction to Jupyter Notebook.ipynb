{
 "cells": [
  {
   "cell_type": "code",
   "execution_count": 1,
   "id": "ab30d264",
   "metadata": {},
   "outputs": [
    {
     "name": "stdout",
     "output_type": "stream",
     "text": [
      "Koding & Kahawa\n"
     ]
    }
   ],
   "source": [
    "print('Koding & Kahawa')"
   ]
  },
  {
   "cell_type": "code",
   "execution_count": 2,
   "id": "293d3657",
   "metadata": {
    "scrolled": true
   },
   "outputs": [
    {
     "name": "stdout",
     "output_type": "stream",
     "text": [
      "Data Science is fun\n"
     ]
    }
   ],
   "source": [
    "print('Data Science is fun')"
   ]
  },
  {
   "cell_type": "code",
   "execution_count": null,
   "id": "4065df93",
   "metadata": {},
   "outputs": [],
   "source": []
  },
  {
   "cell_type": "code",
   "execution_count": 3,
   "id": "b131df0a",
   "metadata": {
    "scrolled": false
   },
   "outputs": [
    {
     "name": "stdout",
     "output_type": "stream",
     "text": [
      "Koding & Kahawa\n"
     ]
    }
   ],
   "source": [
    "print('Koding & Kahawa')"
   ]
  },
  {
   "cell_type": "markdown",
   "id": "55ba5c3b",
   "metadata": {},
   "source": [
    "1. Code mode\n",
    "2. Command mode"
   ]
  },
  {
   "cell_type": "markdown",
   "id": "f2c5b568",
   "metadata": {},
   "source": [
    "<p>This is my first sentence in Jupyter Notebook</p>"
   ]
  },
  {
   "cell_type": "markdown",
   "id": "76797a69",
   "metadata": {},
   "source": [
    "\n",
    "<p>Insert a cell above the currently running cell</p>"
   ]
  },
  {
   "cell_type": "code",
   "execution_count": null,
   "id": "28bd44bc",
   "metadata": {},
   "outputs": [],
   "source": []
  },
  {
   "cell_type": "code",
   "execution_count": null,
   "id": "0719bea6",
   "metadata": {},
   "outputs": [],
   "source": []
  },
  {
   "cell_type": "code",
   "execution_count": null,
   "id": "d4a006c2",
   "metadata": {},
   "outputs": [],
   "source": []
  },
  {
   "cell_type": "code",
   "execution_count": null,
   "id": "7c20f03d",
   "metadata": {},
   "outputs": [],
   "source": []
  },
  {
   "cell_type": "markdown",
   "id": "cbf324f3",
   "metadata": {},
   "source": [
    "<h2>Common command modes</h2>\n",
    "A - Insert a cell above the currently running cell\n",
    "B - Insert a cell below the currently running cell\n",
    "Z - Undo\n",
    "Y - Redo\n",
    "X - Cut\n",
    "V -  Pasting\n",
    "M - Markdown"
   ]
  },
  {
   "cell_type": "code",
   "execution_count": null,
   "id": "c4e269fc",
   "metadata": {},
   "outputs": [],
   "source": []
  },
  {
   "cell_type": "raw",
   "id": "f3092845",
   "metadata": {},
   "source": [
    "Lists - Ordered list\n",
    "      - Unordered list\n",
    "\n"
   ]
  },
  {
   "cell_type": "markdown",
   "id": "afe095a8",
   "metadata": {},
   "source": [
    "<h2>Common command modes</h2>\n",
    "<ol>\n",
    "    <li>A - Insert a cell above the currently running cell</li>\n",
    "    <li>B - Insert a cell below the currently running cell</li>\n",
    "    <li>Z - Undo</li>\n",
    "    <li>Y - Redo</li>\n",
    "    <li>X - Cut</li>\n",
    "    <li>V -  Pasting</li>\n",
    "    <li>M - Markdown</li>\n",
    "</ol>\n",
    "\n",
    "<h2>List types</h2>\n",
    "<p>There are two types of lists:</p>\n",
    "<ol>\n",
    "    <li>Unrdered lists</li>\n",
    "    <li>Ordered lists</li>\n",
    "</ol>"
   ]
  },
  {
   "cell_type": "markdown",
   "id": "860fecdc",
   "metadata": {},
   "source": [
    "# Heading 1\n",
    "## Heading 2\n",
    "### Heading 3\n",
    "#### Heading 4\n",
    "##### Heading 5"
   ]
  },
  {
   "cell_type": "code",
   "execution_count": null,
   "id": "2b690b63",
   "metadata": {},
   "outputs": [],
   "source": []
  },
  {
   "cell_type": "code",
   "execution_count": null,
   "id": "271ecc96",
   "metadata": {},
   "outputs": [],
   "source": []
  },
  {
   "cell_type": "code",
   "execution_count": null,
   "id": "3d21035e",
   "metadata": {},
   "outputs": [],
   "source": []
  },
  {
   "cell_type": "markdown",
   "id": "78a7c117",
   "metadata": {},
   "source": [
    "<img src = '../Images/petals.png'>Image</img>"
   ]
  },
  {
   "cell_type": "raw",
   "id": "65e09229",
   "metadata": {},
   "source": [
    "1. Ctrl + Enter -> Runs and remains on the same cell\n",
    "2. Shift + Enter -> Run and move to the next cell\n",
    "3. Alt + Enter -> Run and inserts a new cell below the ran cell"
   ]
  },
  {
   "cell_type": "code",
   "execution_count": null,
   "id": "0f7f2ea5",
   "metadata": {},
   "outputs": [],
   "source": [
    "%pwd"
   ]
  },
  {
   "cell_type": "code",
   "execution_count": null,
   "id": "2e0f9ba8",
   "metadata": {},
   "outputs": [],
   "source": [
    "pwd"
   ]
  },
  {
   "cell_type": "code",
   "execution_count": null,
   "id": "0cc27a66",
   "metadata": {},
   "outputs": [],
   "source": [
    "ls"
   ]
  },
  {
   "cell_type": "code",
   "execution_count": null,
   "id": "2b6ba9fa",
   "metadata": {},
   "outputs": [],
   "source": []
  }
 ],
 "metadata": {
  "kernelspec": {
   "display_name": "Python 3 (ipykernel)",
   "language": "python",
   "name": "python3"
  },
  "language_info": {
   "codemirror_mode": {
    "name": "ipython",
    "version": 3
   },
   "file_extension": ".py",
   "mimetype": "text/x-python",
   "name": "python",
   "nbconvert_exporter": "python",
   "pygments_lexer": "ipython3",
   "version": "3.9.7"
  }
 },
 "nbformat": 4,
 "nbformat_minor": 5
}
